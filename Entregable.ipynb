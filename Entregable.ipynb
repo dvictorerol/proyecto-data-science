{
 "cells": [
  {
   "cell_type": "markdown",
   "id": "0506761a",
   "metadata": {},
   "source": [
    "# <img style=\"float: left; padding-right: 0.7cm; width: 3.0cm\" src=\"https://upload.wikimedia.org/wikipedia/commons/thumb/8/84/Escudo_de_la_Pontificia_Universidad_Cat%C3%B3lica_de_Chile.svg/179px-Escudo_de_la_Pontificia_Universidad_Cat%C3%B3lica_de_Chile.svg.png\"> IMT 2200 - Introducción a Ciencia de Datos\n",
    "**Pontificia Universidad Católica de Chile**<br>\n",
    "**Semestre 2022-1**<br>\n",
    "**Profesora:** Paula Aguirre <br>\n",
    "**Integrantes:** Rodolfo Cruz, Nicolas San Martin, Benjamin Santander, Daniela Victorero <br>\n",
    "\n",
    "----"
   ]
  },
  {
   "cell_type": "markdown",
   "id": "509cf5b8",
   "metadata": {},
   "source": [
    " <h1><center>Proyecto: Análisis sobre la insuficiencia del desarrollo educacional con relación al rendimiento académico y otras variables.</center></h1>"
   ]
  },
  {
   "cell_type": "markdown",
   "id": "d145abac",
   "metadata": {},
   "source": [
    "## Contexto y motivación:\n",
    "\n",
    "Deseamos saber si existe una relación entre la situación socioeconómica del individuo\n",
    "y su capital cognitivo, para tomar medidas que permitan mejorar y equiparar el desarrollo\n",
    "cognitivo del individuo, así como su acceso considerando el contexto de reformas\n",
    "educacionales y pandemia. En primer lugar, se define capital cognitivo como “la suma de los saberes adquiridos a\n",
    "consecuencia del capital cultural de origen más las oportunidades educacionales formales”\n",
    "(Rosas, 2013, pág. 55).\n",
    "En segundo lugar, según Pierre Bourdieu, se define capital cultural como “al conjunto\n",
    "de bienes culturales disponibles, transmitidos de generación en generación, los que explican\n",
    "las diferencias de los resultados escolares y en la ubicación relativa en la pirámide social.”\n",
    "(Rosas, 2013, pág. 15). Por lo tanto, creemos que sería interesante compararar el rendimiento escolar de los estudiantes en funcion de ciertos indicadores socioeconomicos tales como:\n",
    "\n",
    "- Indicador de calidad educacional.\n",
    "- Indicados de nivel socioeconómico.\n",
    "\n",
    "\n"
   ]
  },
  {
   "cell_type": "markdown",
   "id": "913d2965",
   "metadata": {},
   "source": [
    "## Preguntas objetivo: \n",
    "\n",
    "Las preguntas anteriores eran:\n",
    "1. ¿Es la educación una inversión al largo plazo?\n",
    "2. ¿Existe una relación entre el nivel socioeconómico del estudiante y capital cognitivo?\n",
    "3. ¿Influye la ubicación en el rendimiento académico?\n",
    "4. ¿Cuáles son las regiones con mayor rendimiento académico?\n",
    "5. ¿Es acaso la inversión al estudiante un factor que determine el éxito académico?\n",
    "\n",
    "A lo largo del proyecto, se ha decidido enfocar la pregunta a que si existe una relacion entre el nivel socioeconomico del estudiante y su capital congnitivo, debido a la cantidad de informacion presente respecto al tema y tambien considerando las conclusiones obtenidas de la tarea 3 en cuando a la correlacion existente entre variables para un mejor desempeño.\n"
   ]
  },
  {
   "cell_type": "markdown",
   "id": "05102f8a",
   "metadata": {},
   "source": [
    "## Datos: \n",
    "describa los datos utilizados y su origen, y documente los procedimientos de recolección, preparación y transformación de datos."
   ]
  },
  {
   "cell_type": "markdown",
   "id": "655cdc31",
   "metadata": {},
   "source": [
    "## Análisis exploratorio de datos: \n",
    "describa el proceso de exploración de sus datos, incluyendo visualizaciones, análisis gráficos, análisis estadísticos, etc. Explique los resultados y conclusiones preliminares obtenidas, y cómo estos influyen o motivan el método de modelamiento elegido. Justifique todas las decisiones adoptadas.\n",
    "\n"
   ]
  },
  {
   "cell_type": "markdown",
   "id": "fd350d40",
   "metadata": {},
   "source": [
    "## Análisis de datos: \n",
    "describa y documente los métodos computacionales y estadísticos aplicados al modelamiento de sus datos. Justifique las elecciones y decisiones adoptadas (ej: selección de variables y parámetros, configuración de algoritmos, normalizaciones, validaciones, etc.), y evalúe sus resultados en base a métricas apropiadas al modelo elaborado (Ej. error cuadrático, intervalo de confiabilidad, precisión, recall, F1, matriz de confusión, etc.)"
   ]
  },
  {
   "cell_type": "markdown",
   "id": "54b729fe",
   "metadata": {},
   "source": [
    "## Resumen de los resultados: \n",
    "explique narrativa y visualmente sus resultados, cómo estos responden a la pregunta original, y las posibles limitaciones o sesgos de sus datos o análisis."
   ]
  },
  {
   "cell_type": "markdown",
   "id": "b5c7660c",
   "metadata": {},
   "source": [
    "----"
   ]
  },
  {
   "cell_type": "markdown",
   "id": "162715d4",
   "metadata": {},
   "source": [
    "## Desarrollo"
   ]
  },
  {
   "cell_type": "markdown",
   "id": "d4c157d5",
   "metadata": {},
   "source": [
    "Como grupo pensamos que podria ser util enfocar el estudio del rendimiento estudiantil para la RM, asi luego extrapolar las mismas ideas a un panorama general de todas las regiones en Chile. Por lo tanto, comenzaremos analizando la distribucion de los establecimientos educacionales en santiago de acuerdo a indicadores socioeconomicos/sociodemograficos."
   ]
  },
  {
   "cell_type": "code",
   "execution_count": null,
   "id": "c2fae243",
   "metadata": {},
   "outputs": [],
   "source": [
    "from sklearn.metrics import mean_squared_error, r2_score, explained_variance_score, mean_absolute_error, accuracy_score\n",
    "from sklearn.model_selection import train_test_split\n",
    "from sklearn.preprocessing import PolynomialFeatures, StandardScaler, Normalizer\n",
    "from sklearn.linear_model import LinearRegression, Ridge, RidgeCV, Lasso, LassoCV\n",
    "import matplotlib.pyplot as plt\n",
    "import matplotlib as mlp\n",
    "import pandas as pd\n",
    "import numpy as np\n",
    "import seaborn as sns\n",
    "import statsmodels.api as sm\n",
    "from sklearn.neighbors import KNeighborsRegressor\n",
    "import geopandas as gpd\n",
    "from sklearn.cluster import KMeans, AgglomerativeClustering, DBSCAN\n",
    "from os import path\n",
    "import warnings\n",
    "try:\n",
    "    import zipfile36\n",
    "except:\n",
    "    print('Instalar zipfile36: pip install zipfile36')\n",
    "warnings.filterwarnings('ignore')"
   ]
  },
  {
   "cell_type": "code",
   "execution_count": null,
   "id": "642d85a3",
   "metadata": {},
   "outputs": [],
   "source": [
    "data = gpd.read_file(\"C2017-2012_RM_pob_socioec.gpkg\")\n",
    "data"
   ]
  },
  {
   "cell_type": "code",
   "execution_count": null,
   "id": "b653b0e2",
   "metadata": {},
   "outputs": [],
   "source": [
    "fig, ax = plt.subplots(figsize = (20, 15))\n",
    "data.plot(ax = ax)\n",
    "ax.set_title(\"Distribucion de población en Santiago según CENSO 2012-2018\")"
   ]
  },
  {
   "cell_type": "code",
   "execution_count": null,
   "id": "67b53a48",
   "metadata": {},
   "outputs": [],
   "source": [
    "geometry = data[\"geometry\"]\n",
    "data.drop(\"geometry\", axis = 1, inplace=True)"
   ]
  },
  {
   "cell_type": "code",
   "execution_count": null,
   "id": "e0f774ec",
   "metadata": {},
   "outputs": [],
   "source": [
    "scaler = StandardScaler()\n",
    "data_sc = scaler.fit_transform(data)\n",
    "data_sc"
   ]
  },
  {
   "cell_type": "code",
   "execution_count": null,
   "id": "03e7d0c2",
   "metadata": {},
   "outputs": [],
   "source": [
    "inertia=[]\n",
    "kmax=12\n",
    "for i in range(1,kmax):\n",
    "\n",
    "    kmeans = KMeans(n_clusters=i,n_init=10)\n",
    "    kncl= kmeans.fit(data_sc)\n",
    "\n",
    "    print(i,kncl.inertia_)\n",
    "    inertia.append(kncl.inertia_)"
   ]
  },
  {
   "cell_type": "code",
   "execution_count": null,
   "id": "af1d8b5b",
   "metadata": {},
   "outputs": [],
   "source": [
    "f, ax = plt.subplots(1,1, figsize=(20,10))\n",
    "\n",
    "ax.plot(range(1,kmax),inertia,marker='o',ls='--')\n",
    "ax.set_xlabel('N Clusters')\n",
    "ax.set_ylabel('Inercia de clusters')\n",
    "ax.set_title('K-means - Método del codo')\n",
    "\n",
    "for i in range(1,len(inertia)):\n",
    "    delta=(-inertia[i-1]+inertia[i])/inertia[i-1]*100\n",
    "    ax.text(i+1.1,inertia[i],'%.2f'%delta+'%',color='b')\n",
    "ax.set_xticks(range(1,kmax))\n",
    "\n",
    "plt.show()"
   ]
  },
  {
   "cell_type": "code",
   "execution_count": null,
   "id": "4f4415d7",
   "metadata": {},
   "outputs": [],
   "source": [
    "k=5\n",
    "\n",
    "# Inicializamos la instancia  KMeans \n",
    "kmeans = KMeans(n_clusters=k,random_state=0)\n",
    "\n",
    "\n",
    "# Correr el algoritmo sobre el conjunto de variable normalizadas\n",
    "kcls = kmeans.fit(data_sc)"
   ]
  },
  {
   "cell_type": "code",
   "execution_count": null,
   "id": "88e70f51",
   "metadata": {},
   "outputs": [],
   "source": [
    "data['kcls_labels'] = kcls.labels_\n",
    "centers = kcls.cluster_centers_\n",
    "centers_i = scaler.inverse_transform(centers)\n",
    "centers_i"
   ]
  },
  {
   "cell_type": "code",
   "execution_count": null,
   "id": "f64cc3df",
   "metadata": {},
   "outputs": [],
   "source": [
    "data[\"geometry\"] = geometry"
   ]
  },
  {
   "cell_type": "code",
   "execution_count": null,
   "id": "1888197e",
   "metadata": {},
   "outputs": [],
   "source": [
    "data.plot(figsize=(20,15),column = \"kcls_labels\", categorical = True, legend = True)"
   ]
  },
  {
   "cell_type": "code",
   "execution_count": null,
   "id": "0dc9e4ce",
   "metadata": {},
   "outputs": [],
   "source": [
    "values = data.groupby(by = \"kcls_labels\").mean().sort_values(by=\"NSE\")\n",
    "data.groupby(by = \"kcls_labels\").mean().sort_values(by=\"NSE\")"
   ]
  },
  {
   "cell_type": "code",
   "execution_count": null,
   "id": "78510660",
   "metadata": {},
   "outputs": [],
   "source": [
    "colegios = pd.read_csv(\"Directorio_Oficial_EE_2021.csv\", sep=\";\")\n",
    "colegios.info()"
   ]
  },
  {
   "cell_type": "code",
   "execution_count": null,
   "id": "8276c815",
   "metadata": {},
   "outputs": [],
   "source": [
    "colegios[colegios[\"NOM_COM_RBD\"] == \"PUENTE ALTO\"]"
   ]
  },
  {
   "cell_type": "code",
   "execution_count": null,
   "id": "2c998545",
   "metadata": {},
   "outputs": [],
   "source": [
    "colegios[\"LONGITUD\"] = colegios[\"LONGITUD\"].replace(\" \", np.nan)\n",
    "colegios[\"LATITUD\"] = colegios[\"LATITUD\"].replace(\" \", np.nan)\n",
    "colegios.dropna()\n",
    "colegios[\"LONGITUD\"] = colegios[\"LONGITUD\"].str.replace(\",\",\".\").astype(np.float64)\n",
    "colegios[\"LATITUD\"] = colegios[\"LATITUD\"].str.replace(\",\",\".\").astype(np.float64)\n",
    "colegios = colegios[colegios[\"LONGITUD\"] <= -50]"
   ]
  },
  {
   "cell_type": "code",
   "execution_count": null,
   "id": "ad840445",
   "metadata": {},
   "outputs": [],
   "source": [
    "localizaciones = gpd.GeoDataFrame(colegios, geometry= gpd.points_from_xy(colegios[\"LONGITUD\"], colegios[\"LATITUD\"]), crs = 4326)"
   ]
  },
  {
   "cell_type": "code",
   "execution_count": null,
   "id": "3660cb9b",
   "metadata": {},
   "outputs": [],
   "source": [
    "codigos = [13101, 13102, 13103, 13104, 13105, 13106, 13107, 13108, 13109, 13110, 13111, 13112, 13113, 13114, 13115, 13116, 13117, 13118, 13119, 13120, 13121, 13122, 13123, 13124, 13125, 13126, 13127, 13128, 13129, 13130, 13131, 13132, 13201, 13202, 13401, ]\n",
    "localizaciones = localizaciones[localizaciones[\"COD_COM_RBD\"].isin(codigos) == True]"
   ]
  },
  {
   "cell_type": "code",
   "execution_count": null,
   "id": "ddfea350",
   "metadata": {},
   "outputs": [],
   "source": [
    "data = data.to_crs(4326)"
   ]
  },
  {
   "cell_type": "code",
   "execution_count": null,
   "id": "5353cae1",
   "metadata": {},
   "outputs": [],
   "source": [
    "palette = {'GRATUITO': 'violet', '$1.000 A $10.000': 'orange', '$10.001 A $25.000' : 'yellow', '$25.001 A $50.000' : 'black', '$50.001 A $100.000' : 'red', 'MAS DE $100.000' : 'pink', \"SIN INFORMACION\":\"purple\"}\n",
    "cmap = mlp.colors.ListedColormap([palette[b] for b in localizaciones['PAGO_MENSUAL'].unique()])\n",
    "\n",
    "fig , ax= plt.subplots(2, 1, figsize=(40, 30))\n",
    "plot_mapa = data.plot(ax = ax[0],column = \"kcls_labels\", categorical = True, legend = True)\n",
    "localizaciones.plot(ax = plot_mapa, markersize=6, color = \"black\")\n",
    "ax1 = data.plot(ax = ax[1], color = \"gray\")\n",
    "localizaciones.plot(ax = ax1, markersize=6, cmap=cmap ,categorical = True, column=\"PAGO_MENSUAL\", legend=True)"
   ]
  },
  {
   "cell_type": "markdown",
   "id": "cbc574ad",
   "metadata": {},
   "source": [
    "Con el grafico anterior podemos observar la distribucion de los establecimientos educacionales en relacion a los indicadores socioeconomicos / sociodemograficos. De esto es interesante descubrir ciertas relaciones de cantidad establecimientos v/s percepcion de calidad de vida. Aprovechando las columnas del dataset tambien podemos agregar el valor de pago mensual de cada estableciento. Tambien encontramos una relacion entre la red vial del Gran Santiago y el acceso a los establecimientos, donde alejados de las grandes carreteras, encontramos mayor cantidad de colegios gratuito a excepcion de la comuna de Providencia/Las Condes/Lo Barnechea/ Vitacura."
   ]
  },
  {
   "cell_type": "code",
   "execution_count": null,
   "id": "5bdfc968",
   "metadata": {},
   "outputs": [],
   "source": [
    "data.groupby(\"kcls_labels\").mean()"
   ]
  },
  {
   "cell_type": "markdown",
   "id": "4a6fafba",
   "metadata": {},
   "source": [
    "Ahora investigaremos el rendimiento de los estudiantes de cada comuna de santiago en funcion de la jornada escolar que cumplen, es decir, si van por la manana (1), por la tarde (2) o jornada completa (3)."
   ]
  },
  {
   "cell_type": "code",
   "execution_count": null,
   "id": "05b597ce",
   "metadata": {},
   "outputs": [],
   "source": [
    "# si queremos el archivo csv cambiamos esta variable\n",
    "crear_archivo = False"
   ]
  },
  {
   "cell_type": "code",
   "execution_count": null,
   "id": "1ab1d779",
   "metadata": {},
   "outputs": [],
   "source": [
    "df_2 = pd.read_csv('promedios.zip',compression='zip', sep=';')\n",
    "dic = {}\n",
    "for i in df_2.columns:\n",
    "    dic[i] = i.upper()\n",
    "df_2.rename(dic, axis=1, inplace=True)\n",
    "df_2[f'PROM_GRAL'] = df_2[f'PROM_GRAL'].replace(',', '.', regex=True)\n",
    "df_2[f'PROM_GRAL'] = df_2[f'PROM_GRAL'].astype(np.float64)\n",
    "df_2 = df_2[df_2[f'PROM_GRAL'] != 0]\n",
    "df_2 = df_2[['MRUN', 'PROM_GRAL','ASISTENCIA', 'SIT_FIN_R','COD_COM_RBD', 'COD_JOR', 'NOM_COM_RBD']]\n",
    "df_2['COD_JOR'] = df_2['COD_JOR'].astype(np.int64)\n",
    "df_2 = df_2[(df_2['COD_JOR'] == 1) | (df_2['COD_JOR'] == 2) | (df_2['COD_JOR'] == 3)]\n",
    "comunas = df_2.copy()\n",
    "if crear_archivo:\n",
    "    df_2.to_csv(f'jornadas20', index=False)\n",
    "\n"
   ]
  },
  {
   "cell_type": "code",
   "execution_count": null,
   "id": "81cb7bd8",
   "metadata": {},
   "outputs": [],
   "source": [
    "df_2 = pd.read_csv('promedios.zip',compression='zip', sep=';')\n",
    "dic = {}\n",
    "for i in df_2.columns:\n",
    "    dic[i] = i.upper()\n",
    "df_2.rename(dic, axis=1, inplace=True)\n",
    "df_2[f'PROM_GRAL'] = df_2[f'PROM_GRAL'].replace(',', '.', regex=True)\n",
    "df_2[f'PROM_GRAL'] = df_2[f'PROM_GRAL'].astype(np.float64)\n",
    "df_2 = df_2[df_2[f'PROM_GRAL'] != 0]\n",
    "df_2 = df_2[['MRUN', 'PROM_GRAL','ASISTENCIA', 'SIT_FIN_R','COD_REG_RBD', 'COD_JOR', 'NOM_REG_RBD_A']]\n",
    "df_2['COD_JOR'] = df_2['COD_JOR'].astype(np.int64)\n",
    "df_2 = df_2[(df_2['COD_JOR'] == 1) | (df_2['COD_JOR'] == 2) | (df_2['COD_JOR'] == 3)]\n",
    "regiones = df_2.copy()\n",
    "if crear_archivo:\n",
    "    df_2.to_csv(f'jornadas_region20', index=False)\n"
   ]
  },
  {
   "cell_type": "code",
   "execution_count": null,
   "id": "b90c5565",
   "metadata": {},
   "outputs": [],
   "source": [
    "codigos = [13101, 13102, 13103, 13104, 13105, 13106, 13107, 13108, 13109, 13110, 13111, 13112, 13113, 13114, 13115, 13116, 13117, 13118, 13119, 13120, 13121, 13122, 13123, 13124, 13125, 13126, 13127, 13128, 13129, 13130, 13131, 13132, 13201, 13202, 13401]"
   ]
  },
  {
   "cell_type": "code",
   "execution_count": null,
   "id": "788f6e5a",
   "metadata": {},
   "outputs": [],
   "source": [
    "fig, ax = plt.subplots(20, 3, figsize=(20, 100))\n",
    "ax = ax.flatten()\n",
    "largo = len(codigos)\n",
    "axis = 0\n",
    "df_plot = comunas\n",
    "for k in range(largo):\n",
    "    plot = df_plot[(df_plot['COD_COM_RBD'] == codigos[k])] # seleccionamos la comuna\n",
    "    for j in range(1,4):\n",
    "        try:\n",
    "            plot_final = plot[(df_plot['COD_JOR'] == j)] # elegimos la jornada\n",
    "            plot_final = plot_final.groupby('PROM_GRAL').count()\n",
    "            axes = sns.scatterplot(data=plot_final, x='PROM_GRAL', y='COD_JOR',ax=ax[axis], legend=True)\n",
    "            axes.set_title(f\"{plot['NOM_COM_RBD'].iloc[0]} jornada: {j}\", fontsize=25)\n",
    "            if j == 1:\n",
    "                axes.set_title(f\"{plot['NOM_COM_RBD'].iloc[0]} jornada: Mañana\", fontsize=11)\n",
    "            elif j == 2:\n",
    "                axes.set_title(f\"{plot['NOM_COM_RBD'].iloc[0]} jornada: Tarde\", fontsize=11)\n",
    "            else:\n",
    "                axes.set_title(f\"{plot['NOM_COM_RBD'].iloc[0]} jornada: Mañana/Tarde\", fontsize=11)\n",
    "\n",
    "            axis += 1\n",
    "        except:\n",
    "            pass\n",
    "plt.show()"
   ]
  },
  {
   "cell_type": "code",
   "execution_count": null,
   "id": "f1cba868",
   "metadata": {},
   "outputs": [],
   "source": [
    "fig, ax = plt.subplots(16, 3, figsize=(20, 100))\n",
    "ax = ax.flatten()\n",
    "largo = len(codigos)\n",
    "axis = 0\n",
    "df_plot = regiones\n",
    "for k in range(1,17):\n",
    "    plot = df_plot[(df_plot['COD_REG_RBD'] == k)] # seleccionamos la comuna\n",
    "    for j in range(1,4):\n",
    "        try:\n",
    "            plot_final = plot[(df_plot['COD_JOR'] == j)] # elegimos la jornada\n",
    "            plot_final = plot_final.groupby('PROM_GRAL').count()\n",
    "            axes = sns.scatterplot(data=plot_final, x='PROM_GRAL', y='COD_JOR',ax=ax[axis], legend=True)\n",
    "            if j == 1:\n",
    "                axes.set_title(f\"{plot['NOM_REG_RBD_A'].iloc[0]} jornada: Mañana\", fontsize=15)\n",
    "            elif j == 2:\n",
    "                axes.set_title(f\"{plot['NOM_REG_RBD_A'].iloc[0]} jornada: Tarde\", fontsize=15)\n",
    "            else:\n",
    "                axes.set_title(f\"{plot['NOM_REG_RBD_A'].iloc[0]} jornada: Mañana/Tarde\", fontsize=15)\n",
    "            axis += 1\n",
    "        except:\n",
    "            pass\n",
    "\n",
    "plt.show()"
   ]
  },
  {
   "cell_type": "markdown",
   "id": "b7228875",
   "metadata": {},
   "source": [
    "Cluster"
   ]
  },
  {
   "cell_type": "code",
   "execution_count": null,
   "id": "1f1baa11",
   "metadata": {},
   "outputs": [],
   "source": [
    "datos = pd.read_csv(\"20220617_NEM_PERCENTILES_JOVENES_2021_20220530_PUBL.csv\", sep=\";\")"
   ]
  },
  {
   "cell_type": "code",
   "execution_count": null,
   "id": "74e36757",
   "metadata": {},
   "outputs": [],
   "source": [
    "datos[\"RBD\"] = datos[\"RBD\"].astype(\"category\")\n",
    "datos[\"NEM\"] = datos[\"NEM\"].str.replace(\",\",\".\")\n",
    "datos[\"NEM\"] = datos[\"NEM\"].astype(np.float64)\n"
   ]
  },
  {
   "cell_type": "code",
   "execution_count": null,
   "id": "cc03cb65",
   "metadata": {},
   "outputs": [],
   "source": [
    "agrupacion_promedios = datos.groupby(by = \"RBD\").mean().reset_index()"
   ]
  },
  {
   "cell_type": "code",
   "execution_count": null,
   "id": "acbf3b1c",
   "metadata": {},
   "outputs": [],
   "source": [
    "directorio = pd.read_csv(\"Directorio_Oficial_EE_2021.csv\", sep=\";\")"
   ]
  },
  {
   "cell_type": "code",
   "execution_count": null,
   "id": "06375ec9",
   "metadata": {},
   "outputs": [],
   "source": [
    "directorio = directorio[directorio[\"NOM_RBD\"].str.contains(\"JARDIN+|SALA CUNA+\", regex=True) == False]"
   ]
  },
  {
   "cell_type": "code",
   "execution_count": null,
   "id": "6aaa23cb",
   "metadata": {},
   "outputs": [],
   "source": [
    "directorio[\"LONGITUD\"] = directorio[\"LONGITUD\"].replace(\" \", np.nan)\n",
    "directorio[\"LATITUD\"] = directorio[\"LATITUD\"].replace(\" \", np.nan)\n",
    "directorio.dropna()\n",
    "directorio[\"LONGITUD\"] = directorio[\"LONGITUD\"].str.replace(\",\",\".\").astype(np.float64)\n",
    "directorio[\"LATITUD\"] = directorio[\"LATITUD\"].str.replace(\",\",\".\").astype(np.float64)\n"
   ]
  },
  {
   "cell_type": "code",
   "execution_count": null,
   "id": "26bfea44",
   "metadata": {},
   "outputs": [],
   "source": [
    "localizaciones = gpd.GeoDataFrame(directorio, geometry= gpd.points_from_xy(directorio[\"LONGITUD\"], directorio[\"LATITUD\"]), crs=4326)"
   ]
  },
  {
   "cell_type": "code",
   "execution_count": null,
   "id": "44c43bbb",
   "metadata": {},
   "outputs": [],
   "source": [
    "conjunto = localizaciones.merge(agrupacion_promedios, how = \"left\", on = \"RBD\")"
   ]
  },
  {
   "cell_type": "code",
   "execution_count": null,
   "id": "d685d788",
   "metadata": {},
   "outputs": [],
   "source": [
    "datos_compacto_2021 = conjunto[['AGNO', 'RBD', 'NOM_RBD', 'COD_REG_RBD', 'COD_PRO_RBD', 'COD_COM_RBD', 'NOM_COM_RBD', \"COD_DEPE2\", 'NEM', 'geometry']]"
   ]
  },
  {
   "cell_type": "code",
   "execution_count": null,
   "id": "881a3ffa",
   "metadata": {},
   "outputs": [],
   "source": [
    "datos_compacto_2021 = datos_compacto_2021[datos_compacto_2021[\"geometry\"] != None]\n"
   ]
  },
  {
   "cell_type": "code",
   "execution_count": null,
   "id": "3a357baf",
   "metadata": {},
   "outputs": [],
   "source": [
    "ruta_cartografia = path.join(\"DivisionPoliticoAdministrativa2020\", \"COMUNA\", \"COMUNAS_2020.shp\")\n",
    "comunas = gpd.read_file(ruta_cartografia).to_crs(4326)\n",
    "# y ploteamos los datos del geodataframe\n",
    "plot_mapa = comunas.plot(color = \"orange\", figsize=(20, 50))\n",
    "datos_compacto_2021.plot(ax = plot_mapa, markersize=3)\n",
    "plot_mapa.set_title(\"Grafica de distribución de escuelas en Chile\")"
   ]
  },
  {
   "cell_type": "code",
   "execution_count": null,
   "id": "46fcbebd",
   "metadata": {},
   "outputs": [],
   "source": [
    "geometry = datos_compacto_2021[[\"RBD\", \"NOM_RBD\", \"geometry\"]]"
   ]
  },
  {
   "cell_type": "code",
   "execution_count": null,
   "id": "21e430c3",
   "metadata": {},
   "outputs": [],
   "source": [
    "datos_compacto_2021.drop(\"geometry\", axis = 1, inplace=True)"
   ]
  },
  {
   "cell_type": "code",
   "execution_count": null,
   "id": "c6d10358",
   "metadata": {},
   "outputs": [],
   "source": [
    "subencion = pd.read_csv(\"20220509_Detalle Subvenciones 2021_20220413.csv\", sep=\";\", encoding=\"ISO-8859-1\")"
   ]
  },
  {
   "cell_type": "code",
   "execution_count": null,
   "id": "12fd1af1",
   "metadata": {},
   "outputs": [],
   "source": [
    "subencion = subencion.groupby(\"NOM_RBD\").mean().reset_index()\n",
    "subencion.drop([\"AGNO\", \"COD_DEPE2\", \"COD_REG_RBD\", \"COD_PRO_RBD\", \"COD_COM_RBD\"], axis = 1, inplace = True)"
   ]
  },
  {
   "cell_type": "code",
   "execution_count": null,
   "id": "9821165a",
   "metadata": {},
   "outputs": [],
   "source": [
    "subencion[\"RBD\"] = subencion[\"RBD\"].astype(np.int64)"
   ]
  },
  {
   "cell_type": "code",
   "execution_count": null,
   "id": "947c8acf",
   "metadata": {},
   "outputs": [],
   "source": [
    "ingreso = pd.read_csv(\"Ingresos_medios_2010-2021.csv\", sep=\",\")"
   ]
  },
  {
   "cell_type": "code",
   "execution_count": null,
   "id": "dbc15f38",
   "metadata": {},
   "outputs": [],
   "source": [
    "ingreso = ingreso[ingreso[\"agno\"] == 2021]"
   ]
  },
  {
   "cell_type": "code",
   "execution_count": null,
   "id": "f32985e7",
   "metadata": {},
   "outputs": [],
   "source": [
    "ingreso = ingreso[ingreso[\"agno\"] == 2021]"
   ]
  },
  {
   "cell_type": "code",
   "execution_count": null,
   "id": "9f9c41c4",
   "metadata": {},
   "outputs": [],
   "source": [
    "ingreso.rename(columns={\"region\":\"COD_REG_RBD\"}, inplace = True)"
   ]
  },
  {
   "cell_type": "code",
   "execution_count": null,
   "id": "ab931f24",
   "metadata": {},
   "outputs": [],
   "source": [
    "ingreso = ingreso[[\"COD_REG_RBD\", \"ingre_medio\"]]"
   ]
  },
  {
   "cell_type": "code",
   "execution_count": null,
   "id": "c90aaf27",
   "metadata": {},
   "outputs": [],
   "source": [
    "resumen_docente = pd.read_csv(\"Dotacion_docente_2021.csv\", sep=\";\")[[\"RBD\", \"NOM_RBD\", \"DC_TOT\"]]"
   ]
  },
  {
   "cell_type": "code",
   "execution_count": null,
   "id": "e18eb53c",
   "metadata": {},
   "outputs": [],
   "source": [
    "evaluacion = pd.read_csv(\"20201104_SNED_2020_2021.csv\", sep=\";\")[[\"RBD\", \"NOM_RBD\", \"EFECTIVR\", \"MEJORAR\", \"IGUALDR\"]]"
   ]
  },
  {
   "cell_type": "code",
   "execution_count": null,
   "id": "eb695646",
   "metadata": {},
   "outputs": [],
   "source": [
    "evaluacion.replace(\" \", 0, inplace=True)"
   ]
  },
  {
   "cell_type": "code",
   "execution_count": null,
   "id": "225da5b1",
   "metadata": {},
   "outputs": [],
   "source": [
    "evaluacion[\"EFECTIVR\"]= evaluacion[\"EFECTIVR\"].str.replace(\",\",\".\").astype(np.float64)\n",
    "evaluacion[\"MEJORAR\"] = evaluacion[\"MEJORAR\"].str.replace(\",\",\".\").astype(np.float64)\n",
    "evaluacion[\"IGUALDR\"]= evaluacion[\"IGUALDR\"].str.replace(\",\",\".\").astype(np.float64)"
   ]
  },
  {
   "cell_type": "markdown",
   "id": "19f56984",
   "metadata": {},
   "source": [
    "##### Agregamos los datos ajustados"
   ]
  },
  {
   "cell_type": "code",
   "execution_count": null,
   "id": "0fbb500e",
   "metadata": {},
   "outputs": [],
   "source": [
    "datos_compacto_2021 = datos_compacto_2021.merge(subencion, how=\"left\", on = [\"RBD\", \"NOM_RBD\"])"
   ]
  },
  {
   "cell_type": "code",
   "execution_count": null,
   "id": "0b7b8593",
   "metadata": {},
   "outputs": [],
   "source": [
    "datos_compacto_2021 = datos_compacto_2021.merge(ingreso, how=\"left\", on = \"COD_REG_RBD\")"
   ]
  },
  {
   "cell_type": "code",
   "execution_count": null,
   "id": "5947b03e",
   "metadata": {},
   "outputs": [],
   "source": [
    "datos_compacto_2021 = datos_compacto_2021.merge(resumen_docente, how=\"left\", on = [\"RBD\", \"NOM_RBD\"])"
   ]
  },
  {
   "cell_type": "code",
   "execution_count": null,
   "id": "cd0ad287",
   "metadata": {},
   "outputs": [],
   "source": [
    "datos_compacto_2021 = datos_compacto_2021.merge(evaluacion, how=\"left\", on = [\"RBD\", \"NOM_RBD\"])"
   ]
  },
  {
   "cell_type": "markdown",
   "id": "e8364386",
   "metadata": {},
   "source": [
    "###### Limpieza de datos para el cluster kmeans"
   ]
  },
  {
   "cell_type": "code",
   "execution_count": null,
   "id": "d67e80f2",
   "metadata": {},
   "outputs": [],
   "source": [
    "datos_compacto_2021 = datos_compacto_2021.dropna()"
   ]
  },
  {
   "cell_type": "code",
   "execution_count": null,
   "id": "00ab71c6",
   "metadata": {},
   "outputs": [],
   "source": [
    "datos_compacto_2021 = datos_compacto_2021[['AGNO', 'RBD', 'NOM_RBD', 'COD_REG_RBD', 'COD_PRO_RBD', 'COD_COM_RBD', 'NOM_COM_RBD', 'COD_DEPE2', 'NEM', \"subv_normal\", \"ingre_medio\", \"DC_TOT\", \"EFECTIVR\", \"MEJORAR\", \"IGUALDR\"]]"
   ]
  },
  {
   "cell_type": "code",
   "execution_count": null,
   "id": "9f88e736",
   "metadata": {},
   "outputs": [],
   "source": [
    "scaler = StandardScaler()\n",
    "data_sc = scaler.fit_transform(datos_compacto_2021[[\"AGNO\", \"COD_DEPE2\", \"NEM\", \"subv_normal\", \"ingre_medio\", \"DC_TOT\", \"EFECTIVR\", \"MEJORAR\", \"IGUALDR\"]])\n",
    "data_sc"
   ]
  },
  {
   "cell_type": "code",
   "execution_count": null,
   "id": "5b46ddaf",
   "metadata": {},
   "outputs": [],
   "source": [
    "inertia=[]\n",
    "kmax=20\n",
    "for i in range(1,kmax):\n",
    "\n",
    "    kmeans = KMeans(n_clusters=i,n_init=10)\n",
    "    kncl= kmeans.fit(data_sc)\n",
    "\n",
    "    print(i,kncl.inertia_)\n",
    "    inertia.append(kncl.inertia_)"
   ]
  },
  {
   "cell_type": "code",
   "execution_count": null,
   "id": "e5083455",
   "metadata": {},
   "outputs": [],
   "source": [
    "f, ax = plt.subplots(1,1, figsize=(20,10))\n",
    "\n",
    "ax.plot(range(1,kmax),inertia,marker='o',ls='--')\n",
    "ax.set_xlabel('N Clusters')\n",
    "ax.set_ylabel('Inercia de clusters')\n",
    "ax.set_title('K-means - Método del codo')\n",
    "\n",
    "for i in range(1,len(inertia)):\n",
    "    delta=(-inertia[i-1]+inertia[i])/inertia[i-1]*100\n",
    "    ax.text(i+1.1,inertia[i],'%.2f'%delta+'%',color='b')\n",
    "ax.set_xticks(range(1,kmax))\n",
    "\n",
    "plt.show()"
   ]
  },
  {
   "cell_type": "code",
   "execution_count": null,
   "id": "78b63027",
   "metadata": {},
   "outputs": [],
   "source": [
    "k=7\n",
    "\n",
    "# Inicializamos la instancia  KMeans \n",
    "kmeans = KMeans(n_clusters=k,random_state=0)\n",
    "\n",
    "\n",
    "# Correr el algoritmo sobre el conjunto de variable normalizadas\n",
    "kcls = kmeans.fit(data_sc)\n"
   ]
  },
  {
   "cell_type": "code",
   "execution_count": null,
   "id": "098e23c6",
   "metadata": {},
   "outputs": [],
   "source": [
    "datos_compacto_2021['kcls_labels'] = kcls.labels_"
   ]
  },
  {
   "cell_type": "code",
   "execution_count": null,
   "id": "5068e568",
   "metadata": {},
   "outputs": [],
   "source": [
    "centers = kcls.cluster_centers_\n",
    "centers_i = scaler.inverse_transform(centers)\n",
    "\n",
    "centers_i"
   ]
  },
  {
   "cell_type": "code",
   "execution_count": null,
   "id": "fce7fdd7",
   "metadata": {},
   "outputs": [],
   "source": [
    "datos_compacto_2021 = datos_compacto_2021.merge(geometry, on = [\"RBD\", \"NOM_RBD\"])\n"
   ]
  },
  {
   "cell_type": "code",
   "execution_count": null,
   "id": "02e5bd47",
   "metadata": {},
   "outputs": [],
   "source": [
    "datos_compacto_2021 = gpd.GeoDataFrame(datos_compacto_2021)"
   ]
  },
  {
   "cell_type": "code",
   "execution_count": null,
   "id": "0bd51b07",
   "metadata": {},
   "outputs": [],
   "source": [
    "ruta_cartografia = path.join(\"DivisionPoliticoAdministrativa2020\", \"COMUNA\", \"COMUNAS_2020.shp\")\n",
    "comunas = gpd.read_file(ruta_cartografia).to_crs(4326)\n",
    "# y ploteamos los datos del geodataframe\n",
    "plot_mapa = comunas.plot(color = \"orange\", figsize=(20, 50))\n",
    "datos_compacto_2021.plot(ax = plot_mapa, column = \"kcls_labels\", categorical = True, legend = True)\n",
    "plot_mapa.set_title(\"Grafica de distribución de escuelas en Chile\")\n",
    "\n"
   ]
  },
  {
   "cell_type": "markdown",
   "id": "edb7e883",
   "metadata": {},
   "source": [
    "##### Obtenemos los promedios de los cluster"
   ]
  },
  {
   "cell_type": "code",
   "execution_count": null,
   "id": "0e912555",
   "metadata": {},
   "outputs": [],
   "source": [
    "values = datos_compacto_2021.groupby(by = \"kcls_labels\").mean().sort_values(by=\"NEM\")[[\"AGNO\", \"COD_DEPE2\", \"NEM\", \"subv_normal\", \"ingre_medio\", \"DC_TOT\", \"EFECTIVR\", \"MEJORAR\", \"IGUALDR\"]]\n",
    "values"
   ]
  },
  {
   "cell_type": "markdown",
   "id": "c1c60be9",
   "metadata": {},
   "source": [
    "Análisis de ingreso a universidades con 7 años de acreditación en las comunas de Santiago."
   ]
  },
  {
   "cell_type": "code",
   "execution_count": null,
   "id": "5ce7c4a7",
   "metadata": {},
   "outputs": [],
   "source": [
    "ruta_comunas = path.join(\"DivisionPoliticoAdministrativa2020\", \"COMUNA\", \"COMUNAS_2020.shp\")\n",
    "comunas = gpd.read_file(ruta_comunas)\n",
    "comunas['COMUNA'] = comunas['COMUNA'].astype('object')\n",
    "#https://stackoverflow.com/questions/39512002/convert-whole-dataframe-from-lower-case-to-upper-case-with-pandas\n",
    "comunas['COMUNA'] = comunas['COMUNA'].str.upper()\n",
    "comunas = comunas.set_index('COMUNA')\n",
    "comunas"
   ]
  },
  {
   "cell_type": "code",
   "execution_count": null,
   "id": "c2f00c34",
   "metadata": {},
   "outputs": [],
   "source": [
    "rendimiento_2021 = pd.read_csv('promedios.zip',compression='zip', sep=';')\n",
    "superior_2022 = pd.read_csv('superior_2022.csv', delimiter= ';')"
   ]
  },
  {
   "cell_type": "code",
   "execution_count": null,
   "id": "beefc5c1",
   "metadata": {},
   "outputs": [],
   "source": [
    "rendimiento_2021 = rendimiento_2021.dropna(subset = ['MRUN'])\n",
    "rendimiento_2021['EDAD_ALU'] = rendimiento_2021['EDAD_ALU'].replace(' ', np.nan)\n",
    "rendimiento_2021 = rendimiento_2021.dropna(subset = ['EDAD_ALU'])\n",
    "rendimiento_2021['EDAD_ALU'] = rendimiento_2021['EDAD_ALU'].astype(np.int64)\n",
    "rendimiento_2021['EDAD_ALU'] = rendimiento_2021['EDAD_ALU'].astype(np.int64)\n",
    "rendimiento_2021 = rendimiento_2021[rendimiento_2021['EDAD_ALU'] <= 17]\n",
    "rendimiento_2021 = rendimiento_2021[['MRUN', 'AGNO', 'COD_REG_RBD', 'COD_PRO_RBD', 'NOM_COM_RBD']]\n",
    "rendimiento_2021"
   ]
  },
  {
   "cell_type": "code",
   "execution_count": null,
   "id": "89a192ad",
   "metadata": {},
   "outputs": [],
   "source": [
    "superior_2022 = superior_2022.rename(columns={'mrun' : 'MRUN'})\n",
    "superior_2022 = superior_2022.dropna(subset = ['MRUN'])\n",
    "superior_2022 = superior_2022[['MRUN', 'codigo_unico',  'cod_inst', 'nomb_inst', 'cod_carrera', 'nomb_carrera', 'region_sede', 'provincia_sede', 'comuna_sede', 'valor_matricula', 'valor_arancel', 'codigo_demre', 'acre_inst_anio']]\n",
    "superior_2022\n"
   ]
  },
  {
   "cell_type": "code",
   "execution_count": null,
   "id": "89dbd002",
   "metadata": {},
   "outputs": [],
   "source": [
    "ingreso = rendimiento_2021.merge(superior_2022, on = 'MRUN')\n",
    "ingreso = ingreso.rename(columns = {'NOM_COM_RBD' : 'COMUNA'})\n",
    "ingreso"
   ]
  },
  {
   "cell_type": "code",
   "execution_count": null,
   "id": "e6f952e4",
   "metadata": {},
   "outputs": [],
   "source": [
    "lista_universidades_7 = ['PONTIFICIA UNIVERSIDAD CATOLICA DE CHILE', 'UNIVERSIDAD DE CHILE', 'UNIVERSIDAD DE SANTIAGO DE CHILE']\n",
    "for universidad in lista_universidades_7:\n",
    "    ub_colegios_universidad = ingreso[ingreso['nomb_inst'] == universidad]\n",
    "    alu_por_comuna = ub_colegios_universidad.groupby('COMUNA').count()\n",
    "    comunas[universidad] = alu_por_comuna['MRUN']\n",
    "comunas = comunas.replace(np.nan, float(0))\n",
    "comunas"
   ]
  },
  {
   "cell_type": "code",
   "execution_count": null,
   "id": "b2e35dd7",
   "metadata": {},
   "outputs": [],
   "source": [
    "for universidad in lista_universidades_7:\n",
    "    if universidad != 'UNIVERSIDAD DE CONCEPCION':\n",
    "        fig, ax = plt.subplots()\n",
    "        prov_stgo = comunas[comunas['PROVINCIA'] == 'Santiago']\n",
    "        prov_stgo.plot(column = universidad, legend = True, ax = ax)\n",
    "        bounds = prov_stgo.geometry.total_bounds\n",
    "        xlim = ([bounds[0],  bounds[2]])\n",
    "        ylim = ([bounds[1],  bounds[3]])\n",
    "        plt.title(universidad)"
   ]
  },
  {
   "cell_type": "code",
   "execution_count": null,
   "id": "5374b099",
   "metadata": {},
   "outputs": [],
   "source": [
    "ub_colegios = directorio\n",
    "\n",
    "ub_colegios = ub_colegios[ub_colegios['LONGITUD'] != ' ']\n",
    "ub_colegios = ub_colegios[ub_colegios['LATITUD'] != ' ']\n",
    "ub_colegios['LONGITUD'] = ub_colegios['LONGITUD'].str.replace(',', '.')\n",
    "ub_colegios['LATITUD'] = ub_colegios['LATITUD'].str.replace(',', '.')\n",
    "ub_colegios = ub_colegios[ub_colegios['PAGO_MENSUAL'] != 'SIN INFORMACION']\n",
    "ub_colegios['LONGITUD'] = ub_colegios['LONGITUD'].astype(np.float64)\n",
    "ub_colegios['LATITUD'] = ub_colegios['LATITUD'].astype(np.float64)\n",
    "ub_colegios['MAT_TOTAL'] = ub_colegios['MAT_TOTAL'].astype(np.float64)\n",
    "ub_colegios['MATRICULA'] = ub_colegios['MATRICULA'].astype(np.float64)\n",
    "ub_colegios = ub_colegios.dropna()\n",
    "ub_colegios = ub_colegios.rename(columns = {'NOM_COM_RBD':'COMUNA'})\n",
    "ub_colegios = gpd.GeoDataFrame(ub_colegios, geometry=gpd.points_from_xy(ub_colegios['LONGITUD'], ub_colegios['LATITUD']))\n",
    "ub_colegios"
   ]
  },
  {
   "cell_type": "code",
   "execution_count": null,
   "id": "f2dc342c",
   "metadata": {},
   "outputs": [],
   "source": [
    "for universidad in lista_universidades_7:\n",
    "    if universidad != 'UNIVERSIDAD DE CONCEPCION':\n",
    "        fig, ax = plt.subplots(figsize = (30, 20))\n",
    "        prov_stgo = comunas[comunas['PROVINCIA'] == 'Santiago']\n",
    "        prov_stgo.plot(column = universidad, legend = True, ax = ax)\n",
    "        ub_colegios_stgo = ub_colegios[ub_colegios['COD_PRO_RBD'] == 131]\n",
    "        ub_colegios_stgo.plot(column = 'PAGO_MENSUAL', categorical = True, ax = ax, legend = True, s = 40)\n",
    "        bounds = prov_stgo.geometry.total_bounds\n",
    "        xlim = ([bounds[0],  bounds[2]])\n",
    "        ylim = ([bounds[1],  bounds[3]])\n",
    "        ax.set_xlim(xlim)\n",
    "        ax.set_ylim(ylim)\n",
    "        plt.title(universidad)"
   ]
  }
 ],
 "metadata": {
  "kernelspec": {
   "display_name": "Python 3 (ipykernel)",
   "language": "python",
   "name": "python3"
  },
  "language_info": {
   "codemirror_mode": {
    "name": "ipython",
    "version": 3
   },
   "file_extension": ".py",
   "mimetype": "text/x-python",
   "name": "python",
   "nbconvert_exporter": "python",
   "pygments_lexer": "ipython3",
   "version": "3.9.12"
  },
  "vscode": {
   "interpreter": {
    "hash": "11ae7209de5612179bb0003d8f2ce2217c8a91a41ebdbbccb99b10fcef02abd3"
   }
  }
 },
 "nbformat": 4,
 "nbformat_minor": 5
}
