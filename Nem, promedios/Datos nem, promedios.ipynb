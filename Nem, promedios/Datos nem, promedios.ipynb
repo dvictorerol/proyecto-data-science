{
 "cells": [
  {
   "cell_type": "code",
   "execution_count": 1,
   "id": "8f90095c",
   "metadata": {},
   "outputs": [],
   "source": [
    "import pandas as pd\n",
    "import numpy as np\n",
    "import geopandas as gpd\n",
    "from sklearn.metrics import mean_squared_error, r2_score, explained_variance_score, mean_absolute_error, accuracy_score\n",
    "from sklearn.model_selection import train_test_split\n",
    "from sklearn.preprocessing import PolynomialFeatures, StandardScaler, Normalizer\n",
    "from sklearn.linear_model import LinearRegression, Ridge, RidgeCV, Lasso, LassoCV\n",
    "import matplotlib.pyplot as plt\n",
    "import seaborn as sns\n",
    "import statsmodels.api as sm\n",
    "from sklearn.neighbors import KNeighborsRegressor\n",
    "from sklearn.cluster import KMeans, AgglomerativeClustering, DBSCAN\n",
    "from os import path"
   ]
  },
  {
   "cell_type": "code",
   "execution_count": 2,
   "id": "3d1f238c",
   "metadata": {},
   "outputs": [],
   "source": [
    "datos = pd.read_csv(\"20220617_NEM_PERCENTILES_JOVENES_2021_20220530_PUBL.csv\", sep=\";\")"
   ]
  },
  {
   "cell_type": "code",
   "execution_count": 3,
   "id": "f453ba2d",
   "metadata": {},
   "outputs": [
    {
     "data": {
      "text/html": [
       "<div>\n",
       "<style scoped>\n",
       "    .dataframe tbody tr th:only-of-type {\n",
       "        vertical-align: middle;\n",
       "    }\n",
       "\n",
       "    .dataframe tbody tr th {\n",
       "        vertical-align: top;\n",
       "    }\n",
       "\n",
       "    .dataframe thead th {\n",
       "        text-align: right;\n",
       "    }\n",
       "</style>\n",
       "<table border=\"1\" class=\"dataframe\">\n",
       "  <thead>\n",
       "    <tr style=\"text-align: right;\">\n",
       "      <th></th>\n",
       "      <th>RBD</th>\n",
       "      <th>COD_DEPE</th>\n",
       "      <th>AGNO_EGRESO</th>\n",
       "      <th>MRUN</th>\n",
       "      <th>NEM</th>\n",
       "      <th>PERCENTIL</th>\n",
       "      <th>PUESTO_10</th>\n",
       "      <th>PUESTO_30</th>\n",
       "    </tr>\n",
       "  </thead>\n",
       "  <tbody>\n",
       "    <tr>\n",
       "      <th>0</th>\n",
       "      <td>8424</td>\n",
       "      <td>1</td>\n",
       "      <td>2021</td>\n",
       "      <td>122</td>\n",
       "      <td>5,78</td>\n",
       "      <td>30</td>\n",
       "      <td>NO</td>\n",
       "      <td>SI</td>\n",
       "    </tr>\n",
       "    <tr>\n",
       "      <th>1</th>\n",
       "      <td>2200</td>\n",
       "      <td>4</td>\n",
       "      <td>2021</td>\n",
       "      <td>163</td>\n",
       "      <td>6,85</td>\n",
       "      <td>20</td>\n",
       "      <td>NO</td>\n",
       "      <td>SI</td>\n",
       "    </tr>\n",
       "    <tr>\n",
       "      <th>2</th>\n",
       "      <td>40023</td>\n",
       "      <td>4</td>\n",
       "      <td>2021</td>\n",
       "      <td>164</td>\n",
       "      <td>6,53</td>\n",
       "      <td>40</td>\n",
       "      <td>NO</td>\n",
       "      <td>NO</td>\n",
       "    </tr>\n",
       "    <tr>\n",
       "      <th>3</th>\n",
       "      <td>8923</td>\n",
       "      <td>4</td>\n",
       "      <td>2021</td>\n",
       "      <td>429</td>\n",
       "      <td>6,7</td>\n",
       "      <td>60</td>\n",
       "      <td>NO</td>\n",
       "      <td>NO</td>\n",
       "    </tr>\n",
       "    <tr>\n",
       "      <th>4</th>\n",
       "      <td>10500</td>\n",
       "      <td>3</td>\n",
       "      <td>2021</td>\n",
       "      <td>488</td>\n",
       "      <td>5,3</td>\n",
       "      <td>60</td>\n",
       "      <td>NO</td>\n",
       "      <td>NO</td>\n",
       "    </tr>\n",
       "    <tr>\n",
       "      <th>...</th>\n",
       "      <td>...</td>\n",
       "      <td>...</td>\n",
       "      <td>...</td>\n",
       "      <td>...</td>\n",
       "      <td>...</td>\n",
       "      <td>...</td>\n",
       "      <td>...</td>\n",
       "      <td>...</td>\n",
       "    </tr>\n",
       "    <tr>\n",
       "      <th>207697</th>\n",
       "      <td>286</td>\n",
       "      <td>1</td>\n",
       "      <td>2021</td>\n",
       "      <td>27072968</td>\n",
       "      <td>6,2</td>\n",
       "      <td>10</td>\n",
       "      <td>SI</td>\n",
       "      <td>NO</td>\n",
       "    </tr>\n",
       "    <tr>\n",
       "      <th>207698</th>\n",
       "      <td>109</td>\n",
       "      <td>1</td>\n",
       "      <td>2021</td>\n",
       "      <td>27072971</td>\n",
       "      <td>5,03</td>\n",
       "      <td>90</td>\n",
       "      <td>NO</td>\n",
       "      <td>NO</td>\n",
       "    </tr>\n",
       "    <tr>\n",
       "      <th>207699</th>\n",
       "      <td>106</td>\n",
       "      <td>5</td>\n",
       "      <td>2021</td>\n",
       "      <td>27072972</td>\n",
       "      <td>5,33</td>\n",
       "      <td>80</td>\n",
       "      <td>NO</td>\n",
       "      <td>NO</td>\n",
       "    </tr>\n",
       "    <tr>\n",
       "      <th>207700</th>\n",
       "      <td>11831</td>\n",
       "      <td>1</td>\n",
       "      <td>2021</td>\n",
       "      <td>27072973</td>\n",
       "      <td>6,08</td>\n",
       "      <td>20</td>\n",
       "      <td>NO</td>\n",
       "      <td>SI</td>\n",
       "    </tr>\n",
       "    <tr>\n",
       "      <th>207701</th>\n",
       "      <td>25577</td>\n",
       "      <td>3</td>\n",
       "      <td>2021</td>\n",
       "      <td>27072974</td>\n",
       "      <td>6,45</td>\n",
       "      <td>10</td>\n",
       "      <td>SI</td>\n",
       "      <td>NO</td>\n",
       "    </tr>\n",
       "  </tbody>\n",
       "</table>\n",
       "<p>207702 rows × 8 columns</p>\n",
       "</div>"
      ],
      "text/plain": [
       "          RBD  COD_DEPE  AGNO_EGRESO      MRUN   NEM  PERCENTIL PUESTO_10  \\\n",
       "0        8424         1         2021       122  5,78         30        NO   \n",
       "1        2200         4         2021       163  6,85         20        NO   \n",
       "2       40023         4         2021       164  6,53         40        NO   \n",
       "3        8923         4         2021       429   6,7         60        NO   \n",
       "4       10500         3         2021       488   5,3         60        NO   \n",
       "...       ...       ...          ...       ...   ...        ...       ...   \n",
       "207697    286         1         2021  27072968   6,2         10        SI   \n",
       "207698    109         1         2021  27072971  5,03         90        NO   \n",
       "207699    106         5         2021  27072972  5,33         80        NO   \n",
       "207700  11831         1         2021  27072973  6,08         20        NO   \n",
       "207701  25577         3         2021  27072974  6,45         10        SI   \n",
       "\n",
       "       PUESTO_30  \n",
       "0             SI  \n",
       "1             SI  \n",
       "2             NO  \n",
       "3             NO  \n",
       "4             NO  \n",
       "...          ...  \n",
       "207697        NO  \n",
       "207698        NO  \n",
       "207699        NO  \n",
       "207700        SI  \n",
       "207701        NO  \n",
       "\n",
       "[207702 rows x 8 columns]"
      ]
     },
     "execution_count": 3,
     "metadata": {},
     "output_type": "execute_result"
    }
   ],
   "source": [
    "datos"
   ]
  },
  {
   "cell_type": "code",
   "execution_count": 4,
   "id": "d1543639",
   "metadata": {},
   "outputs": [
    {
     "name": "stdout",
     "output_type": "stream",
     "text": [
      "<class 'pandas.core.frame.DataFrame'>\n",
      "RangeIndex: 207702 entries, 0 to 207701\n",
      "Data columns (total 8 columns):\n",
      " #   Column       Non-Null Count   Dtype \n",
      "---  ------       --------------   ----- \n",
      " 0   RBD          207702 non-null  int64 \n",
      " 1   COD_DEPE     207702 non-null  int64 \n",
      " 2   AGNO_EGRESO  207702 non-null  int64 \n",
      " 3   MRUN         207702 non-null  int64 \n",
      " 4   NEM          207702 non-null  object\n",
      " 5   PERCENTIL    207702 non-null  int64 \n",
      " 6   PUESTO_10    207702 non-null  object\n",
      " 7   PUESTO_30    207702 non-null  object\n",
      "dtypes: int64(5), object(3)\n",
      "memory usage: 12.7+ MB\n"
     ]
    }
   ],
   "source": [
    "datos.info()"
   ]
  },
  {
   "cell_type": "code",
   "execution_count": 5,
   "id": "56b188bd",
   "metadata": {},
   "outputs": [],
   "source": [
    "datos[\"RBD\"] = datos[\"RBD\"].astype(\"category\")\n",
    "datos[\"NEM\"] = datos[\"NEM\"].str.replace(\",\",\".\")\n",
    "datos[\"NEM\"] = datos[\"NEM\"].astype(np.float64)\n"
   ]
  },
  {
   "cell_type": "code",
   "execution_count": 6,
   "id": "181ab998",
   "metadata": {},
   "outputs": [
    {
     "name": "stdout",
     "output_type": "stream",
     "text": [
      "<class 'pandas.core.frame.DataFrame'>\n",
      "RangeIndex: 207702 entries, 0 to 207701\n",
      "Data columns (total 8 columns):\n",
      " #   Column       Non-Null Count   Dtype   \n",
      "---  ------       --------------   -----   \n",
      " 0   RBD          207702 non-null  category\n",
      " 1   COD_DEPE     207702 non-null  int64   \n",
      " 2   AGNO_EGRESO  207702 non-null  int64   \n",
      " 3   MRUN         207702 non-null  int64   \n",
      " 4   NEM          207702 non-null  float64 \n",
      " 5   PERCENTIL    207702 non-null  int64   \n",
      " 6   PUESTO_10    207702 non-null  object  \n",
      " 7   PUESTO_30    207702 non-null  object  \n",
      "dtypes: category(1), float64(1), int64(4), object(2)\n",
      "memory usage: 11.6+ MB\n"
     ]
    }
   ],
   "source": [
    "datos.info()"
   ]
  },
  {
   "cell_type": "code",
   "execution_count": 7,
   "id": "ae89ebe7",
   "metadata": {},
   "outputs": [],
   "source": [
    "agrupacion_promedios = datos.groupby(by = \"RBD\").mean().reset_index()"
   ]
  },
  {
   "cell_type": "code",
   "execution_count": 8,
   "id": "af182464",
   "metadata": {},
   "outputs": [],
   "source": [
    "directorio = pd.read_csv(\"Directorio_Oficial_EE_2021.csv\", sep=\";\")"
   ]
  },
  {
   "cell_type": "code",
   "execution_count": 9,
   "id": "7972acc9",
   "metadata": {},
   "outputs": [
    {
     "name": "stdout",
     "output_type": "stream",
     "text": [
      "<class 'pandas.core.frame.DataFrame'>\n",
      "RangeIndex: 16498 entries, 0 to 16497\n",
      "Data columns (total 37 columns):\n",
      " #   Column          Non-Null Count  Dtype \n",
      "---  ------          --------------  ----- \n",
      " 0   AGNO            16498 non-null  int64 \n",
      " 1   RBD             16498 non-null  int64 \n",
      " 2   DGV_RBD         16498 non-null  int64 \n",
      " 3   NOM_RBD         16468 non-null  object\n",
      " 4   MRUN            16498 non-null  object\n",
      " 5   RUT_SOSTENEDOR  16498 non-null  object\n",
      " 6   P_JURIDICA      16498 non-null  int64 \n",
      " 7   COD_REG_RBD     16498 non-null  int64 \n",
      " 8   NOM_REG_RBD_A   16498 non-null  object\n",
      " 9   COD_PRO_RBD     16498 non-null  int64 \n",
      " 10  COD_COM_RBD     16498 non-null  int64 \n",
      " 11  NOM_COM_RBD     16498 non-null  object\n",
      " 12  COD_DEPROV_RBD  16498 non-null  int64 \n",
      " 13  NOM_DEPROV_RBD  16498 non-null  object\n",
      " 14  COD_DEPE        16498 non-null  int64 \n",
      " 15  COD_DEPE2       16498 non-null  int64 \n",
      " 16  RURAL_RBD       16498 non-null  int64 \n",
      " 17  LATITUD         16498 non-null  object\n",
      " 18  LONGITUD        16498 non-null  object\n",
      " 19  CONVENIO_PIE    16498 non-null  int64 \n",
      " 20  ENS_01          16498 non-null  int64 \n",
      " 21  ENS_02          16498 non-null  int64 \n",
      " 22  ENS_03          16498 non-null  int64 \n",
      " 23  ENS_04          16498 non-null  int64 \n",
      " 24  ENS_05          16498 non-null  int64 \n",
      " 25  ENS_06          16498 non-null  int64 \n",
      " 26  ENS_07          16498 non-null  int64 \n",
      " 27  ENS_08          16498 non-null  int64 \n",
      " 28  ENS_09          16498 non-null  int64 \n",
      " 29  ENS_10          16498 non-null  int64 \n",
      " 30  ENS_11          16498 non-null  int64 \n",
      " 31  MATRICULA       16498 non-null  int64 \n",
      " 32  ESTADO_ESTAB    16498 non-null  int64 \n",
      " 33  ORI_RELIGIOSA   16498 non-null  int64 \n",
      " 34  ORI_OTRO_GLOSA  16498 non-null  object\n",
      " 35  PAGO_MATRICULA  16498 non-null  object\n",
      " 36  PAGO_MENSUAL    16498 non-null  object\n",
      "dtypes: int64(26), object(11)\n",
      "memory usage: 4.7+ MB\n"
     ]
    }
   ],
   "source": [
    "directorio.info()"
   ]
  },
  {
   "cell_type": "code",
   "execution_count": 10,
   "id": "7699ba5d",
   "metadata": {},
   "outputs": [],
   "source": [
    "directorio = directorio[directorio[\"NOM_RBD\"].str.contains(\"JARDIN+|SALA CUNA+\", regex=True) == False]"
   ]
  },
  {
   "cell_type": "code",
   "execution_count": 11,
   "id": "eb952fbb",
   "metadata": {},
   "outputs": [],
   "source": [
    "directorio[\"LONGITUD\"] = directorio[\"LONGITUD\"].replace(\" \", np.nan)\n",
    "directorio[\"LATITUD\"] = directorio[\"LATITUD\"].replace(\" \", np.nan)\n",
    "directorio.dropna()\n",
    "directorio[\"LONGITUD\"] = directorio[\"LONGITUD\"].str.replace(\",\",\".\").astype(np.float64)\n",
    "directorio[\"LATITUD\"] = directorio[\"LATITUD\"].str.replace(\",\",\".\").astype(np.float64)\n"
   ]
  },
  {
   "cell_type": "code",
   "execution_count": 12,
   "id": "727f0108",
   "metadata": {},
   "outputs": [],
   "source": [
    "localizaciones = gpd.GeoDataFrame(directorio, geometry= gpd.points_from_xy(directorio[\"LONGITUD\"], directorio[\"LATITUD\"]), crs=4326)"
   ]
  },
  {
   "cell_type": "code",
   "execution_count": 13,
   "id": "30b4e958",
   "metadata": {},
   "outputs": [
    {
     "name": "stdout",
     "output_type": "stream",
     "text": [
      "<class 'geopandas.geodataframe.GeoDataFrame'>\n",
      "Int64Index: 15584 entries, 0 to 16495\n",
      "Data columns (total 38 columns):\n",
      " #   Column          Non-Null Count  Dtype   \n",
      "---  ------          --------------  -----   \n",
      " 0   AGNO            15584 non-null  int64   \n",
      " 1   RBD             15584 non-null  int64   \n",
      " 2   DGV_RBD         15584 non-null  int64   \n",
      " 3   NOM_RBD         15584 non-null  object  \n",
      " 4   MRUN            15584 non-null  object  \n",
      " 5   RUT_SOSTENEDOR  15584 non-null  object  \n",
      " 6   P_JURIDICA      15584 non-null  int64   \n",
      " 7   COD_REG_RBD     15584 non-null  int64   \n",
      " 8   NOM_REG_RBD_A   15584 non-null  object  \n",
      " 9   COD_PRO_RBD     15584 non-null  int64   \n",
      " 10  COD_COM_RBD     15584 non-null  int64   \n",
      " 11  NOM_COM_RBD     15584 non-null  object  \n",
      " 12  COD_DEPROV_RBD  15584 non-null  int64   \n",
      " 13  NOM_DEPROV_RBD  15584 non-null  object  \n",
      " 14  COD_DEPE        15584 non-null  int64   \n",
      " 15  COD_DEPE2       15584 non-null  int64   \n",
      " 16  RURAL_RBD       15584 non-null  int64   \n",
      " 17  LATITUD         12857 non-null  float64 \n",
      " 18  LONGITUD        12857 non-null  float64 \n",
      " 19  CONVENIO_PIE    15584 non-null  int64   \n",
      " 20  ENS_01          15584 non-null  int64   \n",
      " 21  ENS_02          15584 non-null  int64   \n",
      " 22  ENS_03          15584 non-null  int64   \n",
      " 23  ENS_04          15584 non-null  int64   \n",
      " 24  ENS_05          15584 non-null  int64   \n",
      " 25  ENS_06          15584 non-null  int64   \n",
      " 26  ENS_07          15584 non-null  int64   \n",
      " 27  ENS_08          15584 non-null  int64   \n",
      " 28  ENS_09          15584 non-null  int64   \n",
      " 29  ENS_10          15584 non-null  int64   \n",
      " 30  ENS_11          15584 non-null  int64   \n",
      " 31  MATRICULA       15584 non-null  int64   \n",
      " 32  ESTADO_ESTAB    15584 non-null  int64   \n",
      " 33  ORI_RELIGIOSA   15584 non-null  int64   \n",
      " 34  ORI_OTRO_GLOSA  15584 non-null  object  \n",
      " 35  PAGO_MATRICULA  15584 non-null  object  \n",
      " 36  PAGO_MENSUAL    15584 non-null  object  \n",
      " 37  geometry        15584 non-null  geometry\n",
      "dtypes: float64(2), geometry(1), int64(26), object(9)\n",
      "memory usage: 4.6+ MB\n"
     ]
    }
   ],
   "source": [
    "localizaciones.info()"
   ]
  },
  {
   "cell_type": "code",
   "execution_count": 14,
   "id": "18c9eef0",
   "metadata": {},
   "outputs": [],
   "source": [
    "conjunto = localizaciones.merge(agrupacion_promedios, how = \"left\", on = \"RBD\")"
   ]
  },
  {
   "cell_type": "code",
   "execution_count": 15,
   "id": "accc3eaf",
   "metadata": {
    "scrolled": true
   },
   "outputs": [
    {
     "name": "stdout",
     "output_type": "stream",
     "text": [
      "<class 'geopandas.geodataframe.GeoDataFrame'>\n",
      "Int64Index: 15584 entries, 0 to 15583\n",
      "Data columns (total 43 columns):\n",
      " #   Column          Non-Null Count  Dtype   \n",
      "---  ------          --------------  -----   \n",
      " 0   AGNO            15584 non-null  int64   \n",
      " 1   RBD             15584 non-null  object  \n",
      " 2   DGV_RBD         15584 non-null  int64   \n",
      " 3   NOM_RBD         15584 non-null  object  \n",
      " 4   MRUN_x          15584 non-null  object  \n",
      " 5   RUT_SOSTENEDOR  15584 non-null  object  \n",
      " 6   P_JURIDICA      15584 non-null  int64   \n",
      " 7   COD_REG_RBD     15584 non-null  int64   \n",
      " 8   NOM_REG_RBD_A   15584 non-null  object  \n",
      " 9   COD_PRO_RBD     15584 non-null  int64   \n",
      " 10  COD_COM_RBD     15584 non-null  int64   \n",
      " 11  NOM_COM_RBD     15584 non-null  object  \n",
      " 12  COD_DEPROV_RBD  15584 non-null  int64   \n",
      " 13  NOM_DEPROV_RBD  15584 non-null  object  \n",
      " 14  COD_DEPE_x      15584 non-null  int64   \n",
      " 15  COD_DEPE2       15584 non-null  int64   \n",
      " 16  RURAL_RBD       15584 non-null  int64   \n",
      " 17  LATITUD         12857 non-null  float64 \n",
      " 18  LONGITUD        12857 non-null  float64 \n",
      " 19  CONVENIO_PIE    15584 non-null  int64   \n",
      " 20  ENS_01          15584 non-null  int64   \n",
      " 21  ENS_02          15584 non-null  int64   \n",
      " 22  ENS_03          15584 non-null  int64   \n",
      " 23  ENS_04          15584 non-null  int64   \n",
      " 24  ENS_05          15584 non-null  int64   \n",
      " 25  ENS_06          15584 non-null  int64   \n",
      " 26  ENS_07          15584 non-null  int64   \n",
      " 27  ENS_08          15584 non-null  int64   \n",
      " 28  ENS_09          15584 non-null  int64   \n",
      " 29  ENS_10          15584 non-null  int64   \n",
      " 30  ENS_11          15584 non-null  int64   \n",
      " 31  MATRICULA       15584 non-null  int64   \n",
      " 32  ESTADO_ESTAB    15584 non-null  int64   \n",
      " 33  ORI_RELIGIOSA   15584 non-null  int64   \n",
      " 34  ORI_OTRO_GLOSA  15584 non-null  object  \n",
      " 35  PAGO_MATRICULA  15584 non-null  object  \n",
      " 36  PAGO_MENSUAL    15584 non-null  object  \n",
      " 37  geometry        15584 non-null  geometry\n",
      " 38  COD_DEPE_y      2959 non-null   float64 \n",
      " 39  AGNO_EGRESO     2959 non-null   float64 \n",
      " 40  MRUN_y          2959 non-null   float64 \n",
      " 41  NEM             2959 non-null   float64 \n",
      " 42  PERCENTIL       2959 non-null   float64 \n",
      "dtypes: float64(7), geometry(1), int64(25), object(10)\n",
      "memory usage: 5.2+ MB\n"
     ]
    }
   ],
   "source": [
    "conjunto.info()"
   ]
  },
  {
   "cell_type": "code",
   "execution_count": 16,
   "id": "35523b99",
   "metadata": {},
   "outputs": [
    {
     "data": {
      "text/plain": [
       "Index(['AGNO', 'RBD', 'DGV_RBD', 'NOM_RBD', 'MRUN_x', 'RUT_SOSTENEDOR',\n",
       "       'P_JURIDICA', 'COD_REG_RBD', 'NOM_REG_RBD_A', 'COD_PRO_RBD',\n",
       "       'COD_COM_RBD', 'NOM_COM_RBD', 'COD_DEPROV_RBD', 'NOM_DEPROV_RBD',\n",
       "       'COD_DEPE_x', 'COD_DEPE2', 'RURAL_RBD', 'LATITUD', 'LONGITUD',\n",
       "       'CONVENIO_PIE', 'ENS_01', 'ENS_02', 'ENS_03', 'ENS_04', 'ENS_05',\n",
       "       'ENS_06', 'ENS_07', 'ENS_08', 'ENS_09', 'ENS_10', 'ENS_11', 'MATRICULA',\n",
       "       'ESTADO_ESTAB', 'ORI_RELIGIOSA', 'ORI_OTRO_GLOSA', 'PAGO_MATRICULA',\n",
       "       'PAGO_MENSUAL', 'geometry', 'COD_DEPE_y', 'AGNO_EGRESO', 'MRUN_y',\n",
       "       'NEM', 'PERCENTIL'],\n",
       "      dtype='object')"
      ]
     },
     "execution_count": 16,
     "metadata": {},
     "output_type": "execute_result"
    }
   ],
   "source": [
    "conjunto.columns"
   ]
  },
  {
   "cell_type": "code",
   "execution_count": 17,
   "id": "431bb0a6",
   "metadata": {},
   "outputs": [],
   "source": [
    "datos_compacto_2021 = conjunto[['AGNO', 'RBD', 'NOM_RBD', 'COD_REG_RBD', 'COD_PRO_RBD', 'COD_COM_RBD', 'NOM_COM_RBD', \"COD_DEPE2\", 'NEM', 'geometry']]"
   ]
  },
  {
   "cell_type": "code",
   "execution_count": 18,
   "id": "f6787cba",
   "metadata": {},
   "outputs": [
    {
     "data": {
      "text/html": [
       "<div>\n",
       "<style scoped>\n",
       "    .dataframe tbody tr th:only-of-type {\n",
       "        vertical-align: middle;\n",
       "    }\n",
       "\n",
       "    .dataframe tbody tr th {\n",
       "        vertical-align: top;\n",
       "    }\n",
       "\n",
       "    .dataframe thead th {\n",
       "        text-align: right;\n",
       "    }\n",
       "</style>\n",
       "<table border=\"1\" class=\"dataframe\">\n",
       "  <thead>\n",
       "    <tr style=\"text-align: right;\">\n",
       "      <th></th>\n",
       "      <th>AGNO</th>\n",
       "      <th>RBD</th>\n",
       "      <th>NOM_RBD</th>\n",
       "      <th>COD_REG_RBD</th>\n",
       "      <th>COD_PRO_RBD</th>\n",
       "      <th>COD_COM_RBD</th>\n",
       "      <th>NOM_COM_RBD</th>\n",
       "      <th>COD_DEPE2</th>\n",
       "      <th>NEM</th>\n",
       "      <th>geometry</th>\n",
       "    </tr>\n",
       "  </thead>\n",
       "  <tbody>\n",
       "    <tr>\n",
       "      <th>0</th>\n",
       "      <td>2021</td>\n",
       "      <td>1</td>\n",
       "      <td>LICEO POLITECNICO ARICA</td>\n",
       "      <td>15</td>\n",
       "      <td>151</td>\n",
       "      <td>15101</td>\n",
       "      <td>ARICA</td>\n",
       "      <td>5</td>\n",
       "      <td>5.488641</td>\n",
       "      <td>POINT (-70.29521 -18.48720)</td>\n",
       "    </tr>\n",
       "    <tr>\n",
       "      <th>1</th>\n",
       "      <td>2021</td>\n",
       "      <td>2</td>\n",
       "      <td>PARVULARIO LAS ESPIGUITAS</td>\n",
       "      <td>15</td>\n",
       "      <td>151</td>\n",
       "      <td>15101</td>\n",
       "      <td>ARICA</td>\n",
       "      <td>5</td>\n",
       "      <td>NaN</td>\n",
       "      <td>POINT (-70.30276 -18.46986)</td>\n",
       "    </tr>\n",
       "    <tr>\n",
       "      <th>2</th>\n",
       "      <td>2021</td>\n",
       "      <td>3</td>\n",
       "      <td>ESC. PEDRO VICENTE GUTIERREZ TORRES</td>\n",
       "      <td>15</td>\n",
       "      <td>151</td>\n",
       "      <td>15101</td>\n",
       "      <td>ARICA</td>\n",
       "      <td>5</td>\n",
       "      <td>NaN</td>\n",
       "      <td>POINT (-70.26083 -18.50358)</td>\n",
       "    </tr>\n",
       "    <tr>\n",
       "      <th>3</th>\n",
       "      <td>2021</td>\n",
       "      <td>4</td>\n",
       "      <td>LICEO OCTAVIO PALMA PEREZ</td>\n",
       "      <td>15</td>\n",
       "      <td>151</td>\n",
       "      <td>15101</td>\n",
       "      <td>ARICA</td>\n",
       "      <td>5</td>\n",
       "      <td>6.200546</td>\n",
       "      <td>POINT (-70.30827 -18.47424)</td>\n",
       "    </tr>\n",
       "    <tr>\n",
       "      <th>4</th>\n",
       "      <td>2021</td>\n",
       "      <td>5</td>\n",
       "      <td>JOVINA NARANJO FERNANDEZ</td>\n",
       "      <td>15</td>\n",
       "      <td>151</td>\n",
       "      <td>15101</td>\n",
       "      <td>ARICA</td>\n",
       "      <td>5</td>\n",
       "      <td>6.240480</td>\n",
       "      <td>POINT (-70.31345 -18.47690)</td>\n",
       "    </tr>\n",
       "    <tr>\n",
       "      <th>...</th>\n",
       "      <td>...</td>\n",
       "      <td>...</td>\n",
       "      <td>...</td>\n",
       "      <td>...</td>\n",
       "      <td>...</td>\n",
       "      <td>...</td>\n",
       "      <td>...</td>\n",
       "      <td>...</td>\n",
       "      <td>...</td>\n",
       "      <td>...</td>\n",
       "    </tr>\n",
       "    <tr>\n",
       "      <th>15579</th>\n",
       "      <td>2021</td>\n",
       "      <td>41911</td>\n",
       "      <td>ESCUELA DE LENGUAJE RUCAKUYÉN</td>\n",
       "      <td>8</td>\n",
       "      <td>81</td>\n",
       "      <td>8112</td>\n",
       "      <td>HUALPÉN</td>\n",
       "      <td>2</td>\n",
       "      <td>NaN</td>\n",
       "      <td>POINT (-73.10757 -36.78845)</td>\n",
       "    </tr>\n",
       "    <tr>\n",
       "      <th>15580</th>\n",
       "      <td>2021</td>\n",
       "      <td>41916</td>\n",
       "      <td>ESCUELA HOSPITALARIA SAN ANTONIO</td>\n",
       "      <td>5</td>\n",
       "      <td>56</td>\n",
       "      <td>5601</td>\n",
       "      <td>SAN ANTONIO</td>\n",
       "      <td>2</td>\n",
       "      <td>NaN</td>\n",
       "      <td>POINT (-70.77424 -33.50808)</td>\n",
       "    </tr>\n",
       "    <tr>\n",
       "      <th>15581</th>\n",
       "      <td>2021</td>\n",
       "      <td>41917</td>\n",
       "      <td>ESCUELA HOSPITALARIA SAN FRANCISCO</td>\n",
       "      <td>5</td>\n",
       "      <td>57</td>\n",
       "      <td>5703</td>\n",
       "      <td>LLAILLAY</td>\n",
       "      <td>2</td>\n",
       "      <td>NaN</td>\n",
       "      <td>POINT EMPTY</td>\n",
       "    </tr>\n",
       "    <tr>\n",
       "      <th>15582</th>\n",
       "      <td>2021</td>\n",
       "      <td>41919</td>\n",
       "      <td>COLEGIO HODGKINSON</td>\n",
       "      <td>6</td>\n",
       "      <td>61</td>\n",
       "      <td>6106</td>\n",
       "      <td>GRANEROS</td>\n",
       "      <td>2</td>\n",
       "      <td>NaN</td>\n",
       "      <td>POINT EMPTY</td>\n",
       "    </tr>\n",
       "    <tr>\n",
       "      <th>15583</th>\n",
       "      <td>2021</td>\n",
       "      <td>41924</td>\n",
       "      <td>ESCUELA DE LENGUAJE EL ROBLE</td>\n",
       "      <td>8</td>\n",
       "      <td>81</td>\n",
       "      <td>8108</td>\n",
       "      <td>SAN PEDRO DE LA PAZ</td>\n",
       "      <td>3</td>\n",
       "      <td>NaN</td>\n",
       "      <td>POINT EMPTY</td>\n",
       "    </tr>\n",
       "  </tbody>\n",
       "</table>\n",
       "<p>15584 rows × 10 columns</p>\n",
       "</div>"
      ],
      "text/plain": [
       "       AGNO    RBD                              NOM_RBD  COD_REG_RBD  \\\n",
       "0      2021      1              LICEO POLITECNICO ARICA           15   \n",
       "1      2021      2            PARVULARIO LAS ESPIGUITAS           15   \n",
       "2      2021      3  ESC. PEDRO VICENTE GUTIERREZ TORRES           15   \n",
       "3      2021      4            LICEO OCTAVIO PALMA PEREZ           15   \n",
       "4      2021      5             JOVINA NARANJO FERNANDEZ           15   \n",
       "...     ...    ...                                  ...          ...   \n",
       "15579  2021  41911        ESCUELA DE LENGUAJE RUCAKUYÉN            8   \n",
       "15580  2021  41916     ESCUELA HOSPITALARIA SAN ANTONIO            5   \n",
       "15581  2021  41917   ESCUELA HOSPITALARIA SAN FRANCISCO            5   \n",
       "15582  2021  41919                   COLEGIO HODGKINSON            6   \n",
       "15583  2021  41924         ESCUELA DE LENGUAJE EL ROBLE            8   \n",
       "\n",
       "       COD_PRO_RBD  COD_COM_RBD          NOM_COM_RBD  COD_DEPE2       NEM  \\\n",
       "0              151        15101                ARICA          5  5.488641   \n",
       "1              151        15101                ARICA          5       NaN   \n",
       "2              151        15101                ARICA          5       NaN   \n",
       "3              151        15101                ARICA          5  6.200546   \n",
       "4              151        15101                ARICA          5  6.240480   \n",
       "...            ...          ...                  ...        ...       ...   \n",
       "15579           81         8112              HUALPÉN          2       NaN   \n",
       "15580           56         5601          SAN ANTONIO          2       NaN   \n",
       "15581           57         5703             LLAILLAY          2       NaN   \n",
       "15582           61         6106             GRANEROS          2       NaN   \n",
       "15583           81         8108  SAN PEDRO DE LA PAZ          3       NaN   \n",
       "\n",
       "                          geometry  \n",
       "0      POINT (-70.29521 -18.48720)  \n",
       "1      POINT (-70.30276 -18.46986)  \n",
       "2      POINT (-70.26083 -18.50358)  \n",
       "3      POINT (-70.30827 -18.47424)  \n",
       "4      POINT (-70.31345 -18.47690)  \n",
       "...                            ...  \n",
       "15579  POINT (-73.10757 -36.78845)  \n",
       "15580  POINT (-70.77424 -33.50808)  \n",
       "15581                  POINT EMPTY  \n",
       "15582                  POINT EMPTY  \n",
       "15583                  POINT EMPTY  \n",
       "\n",
       "[15584 rows x 10 columns]"
      ]
     },
     "execution_count": 18,
     "metadata": {},
     "output_type": "execute_result"
    }
   ],
   "source": [
    "datos_compacto_2021 = datos_compacto_2021[datos_compacto_2021[\"geometry\"] != None]\n",
    "datos_compacto_2021"
   ]
  },
  {
   "cell_type": "code",
   "execution_count": 19,
   "id": "0929c907",
   "metadata": {},
   "outputs": [
    {
     "data": {
      "text/plain": [
       "Text(0.5, 1.0, 'Grafica de distribución de escuelas en Chile')"
      ]
     },
     "execution_count": 19,
     "metadata": {},
     "output_type": "execute_result"
    },
    {
     "data": {
      "image/png": "[encoded data removed]",
      "text/plain": [
       "<Figure size 1440x3600 with 1 Axes>"
      ]
     },
     "metadata": {
      "needs_background": "light"
     },
     "output_type": "display_data"
    }
   ],
   "source": [
    "ruta_cartografia = path.join(\"DivisionPoliticoAdministrativa2020\", \"COMUNA\", \"COMUNAS_2020.shp\")\n",
    "comunas = gpd.read_file(ruta_cartografia).to_crs(4326)\n",
    "# y ploteamos los datos del geodataframe\n",
    "plot_mapa = comunas.plot(color = \"orange\", figsize=(20, 50))\n",
    "datos_compacto_2021.plot(ax = plot_mapa, markersize=3)\n",
    "plot_mapa.set_title(\"Grafica de distribución de escuelas en Chile\")"
   ]
  },
  {
   "cell_type": "code",
   "execution_count": 20,
   "id": "470338f3",
   "metadata": {},
   "outputs": [],
   "source": [
    "geometry = datos_compacto_2021[[\"RBD\", \"NOM_RBD\", \"geometry\"]]"
   ]
  },
  {
   "cell_type": "code",
   "execution_count": 21,
   "id": "3bc196ed",
   "metadata": {
    "scrolled": true
   },
   "outputs": [],
   "source": [
    "datos_compacto_2021.drop(\"geometry\", axis = 1, inplace=True)"
   ]
  },
  {
   "cell_type": "markdown",
   "id": "2012b8bf",
   "metadata": {},
   "source": [
    "##### Apertura de datos para agregar al dataframe"
   ]
  },
  {
   "cell_type": "code",
   "execution_count": 22,
   "id": "e2fe4e49",
   "metadata": {},
   "outputs": [],
   "source": [
    "subencion = pd.read_csv(\"20220509_Detalle Subvenciones 2021_20220413.csv\", sep=\";\", encoding=\"ISO-8859-1\")"
   ]
  },
  {
   "cell_type": "code",
   "execution_count": 23,
   "id": "410f67f5",
   "metadata": {},
   "outputs": [],
   "source": [
    "subencion = subencion.groupby(\"NOM_RBD\").mean().reset_index()\n",
    "subencion.drop([\"AGNO\", \"COD_DEPE2\", \"COD_REG_RBD\", \"COD_PRO_RBD\", \"COD_COM_RBD\"], axis = 1, inplace = True)"
   ]
  },
  {
   "cell_type": "code",
   "execution_count": 24,
   "id": "4d3c9bfb",
   "metadata": {},
   "outputs": [],
   "source": [
    "subencion[\"RBD\"] = subencion[\"RBD\"].astype(np.int64)"
   ]
  },
  {
   "cell_type": "code",
   "execution_count": 25,
   "id": "63fdec7e",
   "metadata": {},
   "outputs": [],
   "source": [
    "ingreso = pd.read_csv(\"Ingresos_medios_2010-2021.csv\", sep=\",\")"
   ]
  },
  {
   "cell_type": "code",
   "execution_count": 26,
   "id": "3781fa12",
   "metadata": {},
   "outputs": [],
   "source": [
    "ingreso = ingreso[ingreso[\"agno\"] == 2021]"
   ]
  },
  {
   "cell_type": "code",
   "execution_count": 27,
   "id": "4c114d56",
   "metadata": {
    "scrolled": true
   },
   "outputs": [
    {
     "name": "stdout",
     "output_type": "stream",
     "text": [
      "<class 'pandas.core.frame.DataFrame'>\n",
      "Int64Index: 17 entries, 187 to 203\n",
      "Data columns (total 6 columns):\n",
      " #   Column       Non-Null Count  Dtype  \n",
      "---  ------       --------------  -----  \n",
      " 0   agno         17 non-null     int64  \n",
      " 1   region       17 non-null     int64  \n",
      " 2   ingre_medio  17 non-null     float64\n",
      " 3   inter_inf    17 non-null     float64\n",
      " 4   inter_sup    17 non-null     float64\n",
      " 5   calidad      17 non-null     object \n",
      "dtypes: float64(3), int64(2), object(1)\n",
      "memory usage: 952.0+ bytes\n"
     ]
    }
   ],
   "source": [
    "ingreso.info()"
   ]
  },
  {
   "cell_type": "code",
   "execution_count": 29,
   "id": "da07247d",
   "metadata": {},
   "outputs": [],
   "source": [
    "ingreso.rename(columns={\"region\":\"COD_REG_RBD\"}, inplace = True)"
   ]
  },
  {
   "cell_type": "code",
   "execution_count": 30,
   "id": "ab931f24",
   "metadata": {},
   "outputs": [],
   "source": [
    "ingreso = ingreso[[\"COD_REG_RBD\", \"ingre_medio\"]]"
   ]
  },
  {
   "cell_type": "code",
   "execution_count": 31,
   "id": "c90aaf27",
   "metadata": {},
   "outputs": [],
   "source": [
    "resumen_docente = pd.read_csv(\"Dotacion_docente_2021.csv\", sep=\";\")[[\"RBD\", \"NOM_RBD\", \"DC_TOT\"]]"
   ]
  },
  {
   "cell_type": "code",
   "execution_count": 32,
   "id": "e4a67aaa",
   "metadata": {},
   "outputs": [],
   "source": [
    "evaluacion = pd.read_csv(\"20201104_SNED_2020_2021.csv\", sep=\";\")[[\"RBD\", \"NOM_RBD\", \"EFECTIVR\", \"MEJORAR\", \"IGUALDR\"]]"
   ]
  },
  {
   "cell_type": "code",
   "execution_count": 33,
   "id": "f66eff8f",
   "metadata": {
    "scrolled": true
   },
   "outputs": [
    {
     "name": "stdout",
     "output_type": "stream",
     "text": [
      "<class 'pandas.core.frame.DataFrame'>\n",
      "RangeIndex: 10780 entries, 0 to 10779\n",
      "Data columns (total 5 columns):\n",
      " #   Column    Non-Null Count  Dtype \n",
      "---  ------    --------------  ----- \n",
      " 0   RBD       10780 non-null  int64 \n",
      " 1   NOM_RBD   10780 non-null  object\n",
      " 2   EFECTIVR  10780 non-null  object\n",
      " 3   MEJORAR   10780 non-null  object\n",
      " 4   IGUALDR   10780 non-null  object\n",
      "dtypes: int64(1), object(4)\n",
      "memory usage: 421.2+ KB\n"
     ]
    }
   ],
   "source": [
    "evaluacion.info()"
   ]
  },
  {
   "cell_type": "code",
   "execution_count": 34,
   "id": "3f56275d",
   "metadata": {},
   "outputs": [],
   "source": [
    "evaluacion.replace(\" \", 0, inplace=True)"
   ]
  },
  {
   "cell_type": "code",
   "execution_count": 35,
   "id": "1e5a5044",
   "metadata": {},
   "outputs": [],
   "source": [
    "evaluacion[\"EFECTIVR\"]= evaluacion[\"EFECTIVR\"].str.replace(\",\",\".\").astype(np.float64)\n",
    "evaluacion[\"MEJORAR\"] = evaluacion[\"MEJORAR\"].str.replace(\",\",\".\").astype(np.float64)\n",
    "evaluacion[\"IGUALDR\"]= evaluacion[\"IGUALDR\"].str.replace(\",\",\".\").astype(np.float64)"
   ]
  },
  {
   "cell_type": "markdown",
   "id": "fd9a338e",
   "metadata": {},
   "source": [
    "##### Agregamos los datos ajustados"
   ]
  },
  {
   "cell_type": "code",
   "execution_count": 36,
   "id": "0fbb500e",
   "metadata": {},
   "outputs": [],
   "source": [
    "datos_compacto_2021 = datos_compacto_2021.merge(subencion, how=\"left\", on = [\"RBD\", \"NOM_RBD\"])"
   ]
  },
  {
   "cell_type": "code",
   "execution_count": 37,
   "id": "0b7b8593",
   "metadata": {},
   "outputs": [],
   "source": [
    "datos_compacto_2021 = datos_compacto_2021.merge(ingreso, how=\"left\", on = \"COD_REG_RBD\")"
   ]
  },
  {
   "cell_type": "code",
   "execution_count": 38,
   "id": "5947b03e",
   "metadata": {},
   "outputs": [],
   "source": [
    "datos_compacto_2021 = datos_compacto_2021.merge(resumen_docente, how=\"left\", on = [\"RBD\", \"NOM_RBD\"])"
   ]
  },
  {
   "cell_type": "code",
   "execution_count": 39,
   "id": "82725066",
   "metadata": {},
   "outputs": [],
   "source": [
    "datos_compacto_2021 = datos_compacto_2021.merge(evaluacion, how=\"left\", on = [\"RBD\", \"NOM_RBD\"])"
   ]
  },
  {
   "cell_type": "markdown",
   "id": "9308a93d",
   "metadata": {},
   "source": [
    "###### Limpieza de datos para el cluster kmeans"
   ]
  },
  {
   "cell_type": "code",
   "execution_count": 40,
   "id": "d67e80f2",
   "metadata": {},
   "outputs": [],
   "source": [
    "datos_compacto_2021 = datos_compacto_2021.dropna()"
   ]
  },
  {
   "cell_type": "code",
   "execution_count": 41,
   "id": "38e85359",
   "metadata": {
    "scrolled": false
   },
   "outputs": [
    {
     "name": "stdout",
     "output_type": "stream",
     "text": [
      "<class 'pandas.core.frame.DataFrame'>\n",
      "Int64Index: 2137 entries, 0 to 15422\n",
      "Data columns (total 51 columns):\n",
      " #   Column                   Non-Null Count  Dtype  \n",
      "---  ------                   --------------  -----  \n",
      " 0   AGNO                     2137 non-null   int64  \n",
      " 1   RBD                      2137 non-null   object \n",
      " 2   NOM_RBD                  2137 non-null   object \n",
      " 3   COD_REG_RBD              2137 non-null   int64  \n",
      " 4   COD_PRO_RBD              2137 non-null   int64  \n",
      " 5   COD_COM_RBD              2137 non-null   int64  \n",
      " 6   NOM_COM_RBD              2137 non-null   object \n",
      " 7   COD_DEPE2                2137 non-null   int64  \n",
      " 8   NEM                      2137 non-null   float64\n",
      " 9   rut_sostenedor           2137 non-null   float64\n",
      " 10  COD_DEPROV_RBD           2137 non-null   float64\n",
      " 11  COD_DEPE                 2137 non-null   float64\n",
      " 12  RURAL_RBD                2137 non-null   float64\n",
      " 13  mes                      2137 non-null   float64\n",
      " 14  matricula                2137 non-null   float64\n",
      " 15  escolaridad              2137 non-null   float64\n",
      " 16  escolaridad_pie          2137 non-null   float64\n",
      " 17  internado                2137 non-null   float64\n",
      " 18  porc_zona                2137 non-null   float64\n",
      " 19  MontoAsignacionZona      2137 non-null   float64\n",
      " 20  descuento_ficom          2137 non-null   float64\n",
      " 21  aporte_estado_ficom      2137 non-null   float64\n",
      " 22  ruralidad                2137 non-null   float64\n",
      " 23  piso_rural               2137 non-null   float64\n",
      " 24  DonacionAplicada         2137 non-null   float64\n",
      " 25  discrepancia             2137 non-null   float64\n",
      " 26  Reintegros               2137 non-null   float64\n",
      " 27  retenciones              2137 non-null   float64\n",
      " 28  multas                   2137 non-null   float64\n",
      " 29  desempeño_dificil        2137 non-null   float64\n",
      " 30  desempeño_dificil_nodoc  2137 non-null   float64\n",
      " 31  subv_adicional_especial  2137 non-null   float64\n",
      " 32  SubvNoDocente            2137 non-null   float64\n",
      " 33  ProfesorEncargado        2137 non-null   float64\n",
      " 34  reliquidacion            2137 non-null   float64\n",
      " 35  apor_gratuidad           2137 non-null   float64\n",
      " 36  subv_normal              2137 non-null   float64\n",
      " 37  sep_prio                 2137 non-null   float64\n",
      " 38  sep_pref                 2137 non-null   float64\n",
      " 39  mantenimiento            2137 non-null   float64\n",
      " 40  sned                     2137 non-null   float64\n",
      " 41  avdi                     2137 non-null   float64\n",
      " 42  aep                      2137 non-null   float64\n",
      " 43  proretencion             2137 non-null   float64\n",
      " 44  adeco                    2137 non-null   float64\n",
      " 45  reforzamiento            2137 non-null   float64\n",
      " 46  ingre_medio              2137 non-null   float64\n",
      " 47  DC_TOT                   2137 non-null   float64\n",
      " 48  EFECTIVR                 2137 non-null   float64\n",
      " 49  MEJORAR                  2137 non-null   float64\n",
      " 50  IGUALDR                  2137 non-null   float64\n",
      "dtypes: float64(43), int64(5), object(3)\n",
      "memory usage: 868.2+ KB\n"
     ]
    }
   ],
   "source": [
    "datos_compacto_2021.info()"
   ]
  },
  {
   "cell_type": "code",
   "execution_count": 42,
   "id": "00ab71c6",
   "metadata": {},
   "outputs": [],
   "source": [
    "datos_compacto_2021 = datos_compacto_2021[['AGNO', 'RBD', 'NOM_RBD', 'COD_REG_RBD', 'COD_PRO_RBD', 'COD_COM_RBD', 'NOM_COM_RBD', 'COD_DEPE2', 'NEM', \"subv_normal\", \"ingre_medio\", \"DC_TOT\", \"EFECTIVR\", \"MEJORAR\", \"IGUALDR\"]]"
   ]
  },
  {
   "cell_type": "code",
   "execution_count": 43,
   "id": "9f88e736",
   "metadata": {},
   "outputs": [
    {
     "data": {
      "text/plain": [
       "array([[ 0.        ,  3.60672325, -1.21043745, ..., -1.76859159,\n",
       "         0.22618629, -1.56164603],\n",
       "       [ 0.        ,  3.60672325,  1.58920348, ...,  0.4447285 ,\n",
       "         0.22618629,  0.6931764 ],\n",
       "       [ 0.        ,  3.60672325,  1.74624716, ...,  0.61641518,\n",
       "         0.22618629,  0.59000204],\n",
       "       ...,\n",
       "       [ 0.        ,  0.17554611, -0.57587581, ..., -0.43055254,\n",
       "        -8.4310098 , -0.18901465],\n",
       "       [ 0.        ,  0.17554611, -1.30996155, ..., -0.79779742,\n",
       "         0.22618629,  0.1638244 ],\n",
       "       [ 0.        ,  0.17554611, -3.05341521, ...,  0.38103614,\n",
       "         0.22618629,  0.2482032 ]])"
      ]
     },
     "execution_count": 43,
     "metadata": {},
     "output_type": "execute_result"
    }
   ],
   "source": [
    "scaler = StandardScaler()\n",
    "data_sc = scaler.fit_transform(datos_compacto_2021[[\"AGNO\", \"COD_DEPE2\", \"NEM\", \"subv_normal\", \"ingre_medio\", \"DC_TOT\", \"EFECTIVR\", \"MEJORAR\", \"IGUALDR\"]])\n",
    "data_sc"
   ]
  },
  {
   "cell_type": "code",
   "execution_count": 44,
   "id": "5b46ddaf",
   "metadata": {},
   "outputs": [
    {
     "name": "stdout",
     "output_type": "stream",
     "text": [
      "1 17095.999999999996\n",
      "2 13847.285137327834\n",
      "3 12206.43471330174\n",
      "4 10657.099323522361\n",
      "5 9122.570293263312\n",
      "6 8122.690718087562\n",
      "7 7138.507371877006\n",
      "8 6507.395769937767\n",
      "9 6134.574819691815\n",
      "10 5821.911545295211\n",
      "11 5538.050192607227\n",
      "12 5329.389190685189\n",
      "13 5080.676204427631\n",
      "14 4865.8173859863155\n",
      "15 4747.35500932408\n",
      "16 4602.734831001826\n",
      "17 4495.572715658922\n",
      "18 4344.050072559646\n",
      "19 4237.023766731672\n"
     ]
    }
   ],
   "source": [
    "inertia=[]\n",
    "kmax=20\n",
    "for i in range(1,kmax):\n",
    "\n",
    "    kmeans = KMeans(n_clusters=i,n_init=10)\n",
    "    kncl= kmeans.fit(data_sc)\n",
    "\n",
    "    print(i,kncl.inertia_)\n",
    "    inertia.append(kncl.inertia_)"
   ]
  },
  {
   "cell_type": "code",
   "execution_count": 45,
   "id": "e5083455",
   "metadata": {},
   "outputs": [
    {
     "data": {
      "image/png": "[encoded data removed]",
      "text/plain": [
       "<Figure size 1440x720 with 1 Axes>"
      ]
     },
     "metadata": {
      "needs_background": "light"
     },
     "output_type": "display_data"
    }
   ],
   "source": [
    "f, ax = plt.subplots(1,1, figsize=(20,10))\n",
    "\n",
    "ax.plot(range(1,kmax),inertia,marker='o',ls='--')\n",
    "ax.set_xlabel('N Clusters')\n",
    "ax.set_ylabel('Inercia de clusters')\n",
    "ax.set_title('K-means - Método del codo')\n",
    "\n",
    "for i in range(1,len(inertia)):\n",
    "    delta=(-inertia[i-1]+inertia[i])/inertia[i-1]*100\n",
    "    ax.text(i+1.1,inertia[i],'%.2f'%delta+'%',color='b')\n",
    "ax.set_xticks(range(1,kmax))\n",
    "\n",
    "plt.show()"
   ]
  },
  {
   "cell_type": "code",
   "execution_count": 46,
   "id": "78b63027",
   "metadata": {},
   "outputs": [],
   "source": [
    "k=7\n",
    "\n",
    "# Inicializamos la instancia  KMeans \n",
    "kmeans = KMeans(n_clusters=k,random_state=0)\n",
    "\n",
    "\n",
    "# Correr el algoritmo sobre el conjunto de variable normalizadas\n",
    "kcls = kmeans.fit(data_sc)\n"
   ]
  },
  {
   "cell_type": "code",
   "execution_count": 47,
   "id": "098e23c6",
   "metadata": {},
   "outputs": [],
   "source": [
    "datos_compacto_2021['kcls_labels'] = kcls.labels_"
   ]
  },
  {
   "cell_type": "code",
   "execution_count": 48,
   "id": "5068e568",
   "metadata": {},
   "outputs": [
    {
     "data": {
      "text/plain": [
       "array([[2.02100000e+03, 5.00000000e+00, 5.67674526e+00, 6.40535142e+07,\n",
       "        6.16853659e+05, 4.78240741e+01, 3.36685885e+01, 9.98765432e+01,\n",
       "        9.08350770e+01],\n",
       "       [2.02100000e+03, 1.88316151e+00, 6.05041723e+00, 7.25190142e+07,\n",
       "        6.34168179e+05, 4.45412371e+01, 5.26132638e+01, 9.98739977e+01,\n",
       "        9.39352075e+01],\n",
       "       [2.02100000e+03, 1.71428571e+00, 5.74248848e+00, 7.54197130e+07,\n",
       "        6.51870462e+05, 4.73928571e+01, 3.93960022e+01, 9.82142857e+01,\n",
       "        6.37565235e+01],\n",
       "       [2.02100000e+03, 1.75593220e+00, 5.85126687e+00, 1.64467733e+08,\n",
       "        6.89497804e+05, 8.78677966e+01, 4.79801636e+01, 9.98983051e+01,\n",
       "        9.31317099e+01],\n",
       "       [2.02100000e+03, 1.65075922e+00, 5.64180086e+00, 6.09929959e+07,\n",
       "        7.79132492e+05, 4.04598698e+01, 3.65684634e+01, 9.98843095e+01,\n",
       "        9.06692053e+01],\n",
       "       [2.02100000e+03, 1.42833052e+00, 5.66719675e+00, 5.15355033e+07,\n",
       "        5.70397726e+05, 3.84620573e+01, 3.51176880e+01, 9.98257448e+01,\n",
       "        9.14578014e+01],\n",
       "       [2.02100000e+03, 1.94285714e+00, 5.77316898e+00, 6.80288732e+07,\n",
       "        6.18522724e+05, 4.45714286e+01, 4.15204071e+01, 8.86666666e+01,\n",
       "        9.19075696e+01]])"
      ]
     },
     "execution_count": 48,
     "metadata": {},
     "output_type": "execute_result"
    }
   ],
   "source": [
    "centers = kcls.cluster_centers_\n",
    "centers_i = scaler.inverse_transform(centers)\n",
    "\n",
    "centers_i"
   ]
  },
  {
   "cell_type": "code",
   "execution_count": 49,
   "id": "fce7fdd7",
   "metadata": {},
   "outputs": [],
   "source": [
    "datos_compacto_2021 = datos_compacto_2021.merge(geometry, on = [\"RBD\", \"NOM_RBD\"])\n"
   ]
  },
  {
   "cell_type": "code",
   "execution_count": 50,
   "id": "02e5bd47",
   "metadata": {},
   "outputs": [],
   "source": [
    "datos_compacto_2021 = gpd.GeoDataFrame(datos_compacto_2021)"
   ]
  },
  {
   "cell_type": "code",
   "execution_count": 51,
   "id": "0bd51b07",
   "metadata": {},
   "outputs": [
    {
     "data": {
      "text/plain": [
       "Text(0.5, 1.0, 'Grafica de distribución de escuelas en Chile')"
      ]
     },
     "execution_count": 51,
     "metadata": {},
     "output_type": "execute_result"
    },
    {
     "data": {
      "image/png": "[encoded data removed]",
      "text/plain": [
       "<Figure size 1440x3600 with 1 Axes>"
      ]
     },
     "metadata": {
      "needs_background": "light"
     },
     "output_type": "display_data"
    }
   ],
   "source": [
    "ruta_cartografia = path.join(\"DivisionPoliticoAdministrativa2020\", \"COMUNA\", \"COMUNAS_2020.shp\")\n",
    "comunas = gpd.read_file(ruta_cartografia).to_crs(4326)\n",
    "# y ploteamos los datos del geodataframe\n",
    "plot_mapa = comunas.plot(color = \"orange\", figsize=(20, 50))\n",
    "datos_compacto_2021.plot(ax = plot_mapa, column = \"kcls_labels\", categorical = True, legend = True)\n",
    "plot_mapa.set_title(\"Grafica de distribución de escuelas en Chile\")\n",
    "\n"
   ]
  },
  {
   "cell_type": "markdown",
   "id": "85af8c55",
   "metadata": {},
   "source": [
    "##### Obtenemos los promedios de los cluster"
   ]
  },
  {
   "cell_type": "code",
   "execution_count": 52,
   "id": "0e912555",
   "metadata": {},
   "outputs": [
    {
     "data": {
      "text/html": [
       "<div>\n",
       "<style scoped>\n",
       "    .dataframe tbody tr th:only-of-type {\n",
       "        vertical-align: middle;\n",
       "    }\n",
       "\n",
       "    .dataframe tbody tr th {\n",
       "        vertical-align: top;\n",
       "    }\n",
       "\n",
       "    .dataframe thead th {\n",
       "        text-align: right;\n",
       "    }\n",
       "</style>\n",
       "<table border=\"1\" class=\"dataframe\">\n",
       "  <thead>\n",
       "    <tr style=\"text-align: right;\">\n",
       "      <th></th>\n",
       "      <th>AGNO</th>\n",
       "      <th>COD_DEPE2</th>\n",
       "      <th>NEM</th>\n",
       "      <th>subv_normal</th>\n",
       "      <th>ingre_medio</th>\n",
       "      <th>DC_TOT</th>\n",
       "      <th>EFECTIVR</th>\n",
       "      <th>MEJORAR</th>\n",
       "      <th>IGUALDR</th>\n",
       "    </tr>\n",
       "    <tr>\n",
       "      <th>kcls_labels</th>\n",
       "      <th></th>\n",
       "      <th></th>\n",
       "      <th></th>\n",
       "      <th></th>\n",
       "      <th></th>\n",
       "      <th></th>\n",
       "      <th></th>\n",
       "      <th></th>\n",
       "      <th></th>\n",
       "    </tr>\n",
       "  </thead>\n",
       "  <tbody>\n",
       "    <tr>\n",
       "      <th>4</th>\n",
       "      <td>2021.0</td>\n",
       "      <td>1.650000</td>\n",
       "      <td>5.641046</td>\n",
       "      <td>6.081395e+07</td>\n",
       "      <td>779129.619721</td>\n",
       "      <td>40.408696</td>\n",
       "      <td>36.586729</td>\n",
       "      <td>99.884058</td>\n",
       "      <td>90.671032</td>\n",
       "    </tr>\n",
       "    <tr>\n",
       "      <th>5</th>\n",
       "      <td>2021.0</td>\n",
       "      <td>1.428331</td>\n",
       "      <td>5.667197</td>\n",
       "      <td>5.153550e+07</td>\n",
       "      <td>570397.726161</td>\n",
       "      <td>38.462057</td>\n",
       "      <td>35.117688</td>\n",
       "      <td>99.825745</td>\n",
       "      <td>91.457801</td>\n",
       "    </tr>\n",
       "    <tr>\n",
       "      <th>0</th>\n",
       "      <td>2021.0</td>\n",
       "      <td>5.000000</td>\n",
       "      <td>5.676745</td>\n",
       "      <td>6.405351e+07</td>\n",
       "      <td>616853.658945</td>\n",
       "      <td>47.824074</td>\n",
       "      <td>33.668589</td>\n",
       "      <td>99.876543</td>\n",
       "      <td>90.835077</td>\n",
       "    </tr>\n",
       "    <tr>\n",
       "      <th>2</th>\n",
       "      <td>2021.0</td>\n",
       "      <td>1.714286</td>\n",
       "      <td>5.742488</td>\n",
       "      <td>7.541971e+07</td>\n",
       "      <td>651870.461616</td>\n",
       "      <td>47.392857</td>\n",
       "      <td>39.396002</td>\n",
       "      <td>98.214286</td>\n",
       "      <td>63.756524</td>\n",
       "    </tr>\n",
       "    <tr>\n",
       "      <th>6</th>\n",
       "      <td>2021.0</td>\n",
       "      <td>1.942857</td>\n",
       "      <td>5.773169</td>\n",
       "      <td>6.802887e+07</td>\n",
       "      <td>618522.723962</td>\n",
       "      <td>44.571429</td>\n",
       "      <td>41.520407</td>\n",
       "      <td>88.666667</td>\n",
       "      <td>91.907570</td>\n",
       "    </tr>\n",
       "    <tr>\n",
       "      <th>3</th>\n",
       "      <td>2021.0</td>\n",
       "      <td>1.756757</td>\n",
       "      <td>5.851732</td>\n",
       "      <td>1.643964e+08</td>\n",
       "      <td>689805.088003</td>\n",
       "      <td>87.787162</td>\n",
       "      <td>47.913225</td>\n",
       "      <td>99.898649</td>\n",
       "      <td>93.120551</td>\n",
       "    </tr>\n",
       "    <tr>\n",
       "      <th>1</th>\n",
       "      <td>2021.0</td>\n",
       "      <td>1.883162</td>\n",
       "      <td>6.050417</td>\n",
       "      <td>7.251901e+07</td>\n",
       "      <td>634168.179144</td>\n",
       "      <td>44.541237</td>\n",
       "      <td>52.613264</td>\n",
       "      <td>99.873998</td>\n",
       "      <td>93.935207</td>\n",
       "    </tr>\n",
       "  </tbody>\n",
       "</table>\n",
       "</div>"
      ],
      "text/plain": [
       "               AGNO  COD_DEPE2       NEM   subv_normal    ingre_medio  \\\n",
       "kcls_labels                                                             \n",
       "4            2021.0   1.650000  5.641046  6.081395e+07  779129.619721   \n",
       "5            2021.0   1.428331  5.667197  5.153550e+07  570397.726161   \n",
       "0            2021.0   5.000000  5.676745  6.405351e+07  616853.658945   \n",
       "2            2021.0   1.714286  5.742488  7.541971e+07  651870.461616   \n",
       "6            2021.0   1.942857  5.773169  6.802887e+07  618522.723962   \n",
       "3            2021.0   1.756757  5.851732  1.643964e+08  689805.088003   \n",
       "1            2021.0   1.883162  6.050417  7.251901e+07  634168.179144   \n",
       "\n",
       "                DC_TOT   EFECTIVR    MEJORAR    IGUALDR  \n",
       "kcls_labels                                              \n",
       "4            40.408696  36.586729  99.884058  90.671032  \n",
       "5            38.462057  35.117688  99.825745  91.457801  \n",
       "0            47.824074  33.668589  99.876543  90.835077  \n",
       "2            47.392857  39.396002  98.214286  63.756524  \n",
       "6            44.571429  41.520407  88.666667  91.907570  \n",
       "3            87.787162  47.913225  99.898649  93.120551  \n",
       "1            44.541237  52.613264  99.873998  93.935207  "
      ]
     },
     "execution_count": 52,
     "metadata": {},
     "output_type": "execute_result"
    }
   ],
   "source": [
    "values = datos_compacto_2021.groupby(by = \"kcls_labels\").mean().sort_values(by=\"NEM\")\n",
    "datos_compacto_2021.groupby(by = \"kcls_labels\").mean().sort_values(by=\"NEM\")[[\"AGNO\", \"COD_DEPE2\", \"NEM\", \"subv_normal\", \"ingre_medio\", \"DC_TOT\", \"EFECTIVR\", \"MEJORAR\", \"IGUALDR\"]]"
   ]
  },
  {
   "cell_type": "markdown",
   "id": "85298d62",
   "metadata": {},
   "source": [
    "##### Una muestra de los datos"
   ]
  },
  {
   "cell_type": "code",
   "execution_count": 54,
   "id": "42a95efa",
   "metadata": {},
   "outputs": [
    {
     "data": {
      "text/html": [
       "<div>\n",
       "<style scoped>\n",
       "    .dataframe tbody tr th:only-of-type {\n",
       "        vertical-align: middle;\n",
       "    }\n",
       "\n",
       "    .dataframe tbody tr th {\n",
       "        vertical-align: top;\n",
       "    }\n",
       "\n",
       "    .dataframe thead th {\n",
       "        text-align: right;\n",
       "    }\n",
       "</style>\n",
       "<table border=\"1\" class=\"dataframe\">\n",
       "  <thead>\n",
       "    <tr style=\"text-align: right;\">\n",
       "      <th></th>\n",
       "      <th>AGNO</th>\n",
       "      <th>RBD</th>\n",
       "      <th>NOM_RBD</th>\n",
       "      <th>COD_REG_RBD</th>\n",
       "      <th>COD_PRO_RBD</th>\n",
       "      <th>COD_COM_RBD</th>\n",
       "      <th>NOM_COM_RBD</th>\n",
       "      <th>COD_DEPE2</th>\n",
       "      <th>NEM</th>\n",
       "      <th>subv_normal</th>\n",
       "      <th>ingre_medio</th>\n",
       "      <th>DC_TOT</th>\n",
       "      <th>EFECTIVR</th>\n",
       "      <th>MEJORAR</th>\n",
       "      <th>IGUALDR</th>\n",
       "      <th>kcls_labels</th>\n",
       "      <th>geometry</th>\n",
       "    </tr>\n",
       "  </thead>\n",
       "  <tbody>\n",
       "    <tr>\n",
       "      <th>0</th>\n",
       "      <td>2021</td>\n",
       "      <td>1</td>\n",
       "      <td>LICEO POLITECNICO ARICA</td>\n",
       "      <td>15</td>\n",
       "      <td>151</td>\n",
       "      <td>15101</td>\n",
       "      <td>ARICA</td>\n",
       "      <td>5</td>\n",
       "      <td>5.488641</td>\n",
       "      <td>7.234019e+07</td>\n",
       "      <td>582645.93457</td>\n",
       "      <td>71.0</td>\n",
       "      <td>23.437452</td>\n",
       "      <td>100.0</td>\n",
       "      <td>85.135741</td>\n",
       "      <td>0</td>\n",
       "      <td>POINT (-70.29521 -18.48720)</td>\n",
       "    </tr>\n",
       "    <tr>\n",
       "      <th>1</th>\n",
       "      <td>2021</td>\n",
       "      <td>4</td>\n",
       "      <td>LICEO OCTAVIO PALMA PEREZ</td>\n",
       "      <td>15</td>\n",
       "      <td>151</td>\n",
       "      <td>15101</td>\n",
       "      <td>ARICA</td>\n",
       "      <td>5</td>\n",
       "      <td>6.200546</td>\n",
       "      <td>1.274158e+08</td>\n",
       "      <td>582645.93457</td>\n",
       "      <td>64.0</td>\n",
       "      <td>46.872478</td>\n",
       "      <td>100.0</td>\n",
       "      <td>94.777983</td>\n",
       "      <td>0</td>\n",
       "      <td>POINT (-70.30827 -18.47424)</td>\n",
       "    </tr>\n",
       "    <tr>\n",
       "      <th>2</th>\n",
       "      <td>2021</td>\n",
       "      <td>5</td>\n",
       "      <td>JOVINA NARANJO FERNANDEZ</td>\n",
       "      <td>15</td>\n",
       "      <td>151</td>\n",
       "      <td>15101</td>\n",
       "      <td>ARICA</td>\n",
       "      <td>5</td>\n",
       "      <td>6.240480</td>\n",
       "      <td>1.140461e+08</td>\n",
       "      <td>582645.93457</td>\n",
       "      <td>70.0</td>\n",
       "      <td>48.690327</td>\n",
       "      <td>100.0</td>\n",
       "      <td>94.336781</td>\n",
       "      <td>0</td>\n",
       "      <td>POINT (-70.31345 -18.47690)</td>\n",
       "    </tr>\n",
       "    <tr>\n",
       "      <th>3</th>\n",
       "      <td>2021</td>\n",
       "      <td>7</td>\n",
       "      <td>L. POLI. ANTONIO VARAS DE LA BARRA</td>\n",
       "      <td>15</td>\n",
       "      <td>151</td>\n",
       "      <td>15101</td>\n",
       "      <td>ARICA</td>\n",
       "      <td>5</td>\n",
       "      <td>5.617087</td>\n",
       "      <td>1.522742e+08</td>\n",
       "      <td>582645.93457</td>\n",
       "      <td>99.0</td>\n",
       "      <td>29.168294</td>\n",
       "      <td>100.0</td>\n",
       "      <td>92.306536</td>\n",
       "      <td>0</td>\n",
       "      <td>POINT (-70.28837 -18.47615)</td>\n",
       "    </tr>\n",
       "    <tr>\n",
       "      <th>4</th>\n",
       "      <td>2021</td>\n",
       "      <td>8</td>\n",
       "      <td>COLEGIO INTEGRADO EDUARDO FREI MONTALVA</td>\n",
       "      <td>15</td>\n",
       "      <td>151</td>\n",
       "      <td>15101</td>\n",
       "      <td>ARICA</td>\n",
       "      <td>5</td>\n",
       "      <td>5.612941</td>\n",
       "      <td>9.943901e+07</td>\n",
       "      <td>582645.93457</td>\n",
       "      <td>58.0</td>\n",
       "      <td>38.695490</td>\n",
       "      <td>100.0</td>\n",
       "      <td>91.764478</td>\n",
       "      <td>0</td>\n",
       "      <td>POINT (-70.31758 -18.48249)</td>\n",
       "    </tr>\n",
       "  </tbody>\n",
       "</table>\n",
       "</div>"
      ],
      "text/plain": [
       "   AGNO RBD                                  NOM_RBD  COD_REG_RBD  \\\n",
       "0  2021   1                  LICEO POLITECNICO ARICA           15   \n",
       "1  2021   4                LICEO OCTAVIO PALMA PEREZ           15   \n",
       "2  2021   5                 JOVINA NARANJO FERNANDEZ           15   \n",
       "3  2021   7       L. POLI. ANTONIO VARAS DE LA BARRA           15   \n",
       "4  2021   8  COLEGIO INTEGRADO EDUARDO FREI MONTALVA           15   \n",
       "\n",
       "   COD_PRO_RBD  COD_COM_RBD NOM_COM_RBD  COD_DEPE2       NEM   subv_normal  \\\n",
       "0          151        15101       ARICA          5  5.488641  7.234019e+07   \n",
       "1          151        15101       ARICA          5  6.200546  1.274158e+08   \n",
       "2          151        15101       ARICA          5  6.240480  1.140461e+08   \n",
       "3          151        15101       ARICA          5  5.617087  1.522742e+08   \n",
       "4          151        15101       ARICA          5  5.612941  9.943901e+07   \n",
       "\n",
       "    ingre_medio  DC_TOT   EFECTIVR  MEJORAR    IGUALDR  kcls_labels  \\\n",
       "0  582645.93457    71.0  23.437452    100.0  85.135741            0   \n",
       "1  582645.93457    64.0  46.872478    100.0  94.777983            0   \n",
       "2  582645.93457    70.0  48.690327    100.0  94.336781            0   \n",
       "3  582645.93457    99.0  29.168294    100.0  92.306536            0   \n",
       "4  582645.93457    58.0  38.695490    100.0  91.764478            0   \n",
       "\n",
       "                      geometry  \n",
       "0  POINT (-70.29521 -18.48720)  \n",
       "1  POINT (-70.30827 -18.47424)  \n",
       "2  POINT (-70.31345 -18.47690)  \n",
       "3  POINT (-70.28837 -18.47615)  \n",
       "4  POINT (-70.31758 -18.48249)  "
      ]
     },
     "execution_count": 54,
     "metadata": {},
     "output_type": "execute_result"
    }
   ],
   "source": [
    "datos_compacto_2021.head()"
   ]
  }
 ],
 "metadata": {
  "kernelspec": {
   "display_name": "Python 3 (ipykernel)",
   "language": "python",
   "name": "python3"
  },
  "language_info": {
   "codemirror_mode": {
    "name": "ipython",
    "version": 3
   },
   "file_extension": ".py",
   "mimetype": "text/x-python",
   "name": "python",
   "nbconvert_exporter": "python",
   "pygments_lexer": "ipython3",
   "version": "3.10.6"
  }
 },
 "nbformat": 4,
 "nbformat_minor": 5
}
