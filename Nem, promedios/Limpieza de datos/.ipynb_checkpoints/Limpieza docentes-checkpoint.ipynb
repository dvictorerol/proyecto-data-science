{
 "cells": [
  {
   "cell_type": "code",
   "execution_count": 1,
   "id": "edc8cdd6",
   "metadata": {},
   "outputs": [],
   "source": [
    "import pandas as pd\n",
    "import numpy as np"
   ]
  },
  {
   "cell_type": "code",
   "execution_count": null,
   "id": "02e03861",
   "metadata": {},
   "outputs": [],
   "source": [
    "asistentes = pd.read_csv(\"20210723_Asistentes_de_la_Educacin_ESTAB_2021_20210630_PUBL.csv\", sep=\";\")"
   ]
  },
  {
   "cell_type": "code",
   "execution_count": null,
   "id": "46146197",
   "metadata": {},
   "outputs": [],
   "source": [
    "asistentes.columns"
   ]
  },
  {
   "cell_type": "code",
   "execution_count": null,
   "id": "bf2e1298",
   "metadata": {},
   "outputs": [],
   "source": [
    "cuenta = asistentes.groupby(by = [\"RBD\", \"NOM_RBD\"]).count()"
   ]
  },
  {
   "cell_type": "code",
   "execution_count": null,
   "id": "b79f4281",
   "metadata": {},
   "outputs": [],
   "source": [
    "cuenta = cuenta[\"AGNO\"].reset_index()"
   ]
  },
  {
   "cell_type": "code",
   "execution_count": null,
   "id": "c1145f41",
   "metadata": {},
   "outputs": [],
   "source": [
    "cuenta.rename(columns={\"AGNO\":\"DOCENTES\"}, inplace=True)"
   ]
  },
  {
   "cell_type": "code",
   "execution_count": null,
   "id": "acabccce",
   "metadata": {},
   "outputs": [],
   "source": [
    "cuenta"
   ]
  },
  {
   "cell_type": "code",
   "execution_count": null,
   "id": "bc6b5f74",
   "metadata": {},
   "outputs": [],
   "source": [
    "cuenta.to_csv('docentes_establecimiento_2021.csv', index=False)"
   ]
  }
 ],
 "metadata": {
  "kernelspec": {
   "display_name": "Python 3 (ipykernel)",
   "language": "python",
   "name": "python3"
  },
  "language_info": {
   "codemirror_mode": {
    "name": "ipython",
    "version": 3
   },
   "file_extension": ".py",
   "mimetype": "text/x-python",
   "name": "python",
   "nbconvert_exporter": "python",
   "pygments_lexer": "ipython3",
   "version": "3.10.6"
  }
 },
 "nbformat": 4,
 "nbformat_minor": 5
}
