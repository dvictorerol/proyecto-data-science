{
 "cells": [
  {
   "cell_type": "code",
   "execution_count": 1,
   "id": "b2aa62c2",
   "metadata": {},
   "outputs": [],
   "source": [
    "import pandas as pd\n",
    "import numpy as np"
   ]
  },
  {
   "cell_type": "code",
   "execution_count": null,
   "id": "0af2581d",
   "metadata": {},
   "outputs": [],
   "source": [
    "asistentes = pd.read_csv(\"20210723_Asistentes_de_la_Educacin_ESTAB_2021_20210630_PUBL.csv\", sep=\";\")"
   ]
  },
  {
   "cell_type": "code",
   "execution_count": null,
   "id": "18d32c69",
   "metadata": {},
   "outputs": [],
   "source": [
    "asistentes.columns"
   ]
  },
  {
   "cell_type": "code",
   "execution_count": null,
   "id": "ea06598a",
   "metadata": {},
   "outputs": [],
   "source": [
    "cuenta = asistentes.groupby(by = [\"RBD\", \"NOM_RBD\"]).count()"
   ]
  },
  {
   "cell_type": "code",
   "execution_count": null,
   "id": "b3fd87ed",
   "metadata": {},
   "outputs": [],
   "source": [
    "cuenta = cuenta[\"AGNO\"].reset_index()"
   ]
  },
  {
   "cell_type": "code",
   "execution_count": null,
   "id": "3f925692",
   "metadata": {},
   "outputs": [],
   "source": [
    "cuenta.rename(columns={\"AGNO\":\"DOCENTES\"}, inplace=True)"
   ]
  },
  {
   "cell_type": "code",
   "execution_count": null,
   "id": "fa2402a6",
   "metadata": {},
   "outputs": [],
   "source": [
    "cuenta"
   ]
  },
  {
   "cell_type": "code",
   "execution_count": null,
   "id": "9aedf35b",
   "metadata": {},
   "outputs": [],
   "source": [
    "cuenta.to_csv('docentes_establecimiento_2021.csv', index=False)"
   ]
  }
 ],
 "metadata": {
  "kernelspec": {
   "display_name": "Python 3 (ipykernel)",
   "language": "python",
   "name": "python3"
  },
  "language_info": {
   "codemirror_mode": {
    "name": "ipython",
    "version": 3
   },
   "file_extension": ".py",
   "mimetype": "text/x-python",
   "name": "python",
   "nbconvert_exporter": "python",
   "pygments_lexer": "ipython3",
   "version": "3.10.6"
  }
 },
 "nbformat": 4,
 "nbformat_minor": 5
}
