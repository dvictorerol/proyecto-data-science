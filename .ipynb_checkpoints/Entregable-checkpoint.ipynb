{
 "cells": [
  {
   "cell_type": "markdown",
   "id": "0506761a",
   "metadata": {},
   "source": [
    "# <img style=\"float: left; padding-right: 0.7cm; width: 3.0cm\" src=\"https://upload.wikimedia.org/wikipedia/commons/thumb/8/84/Escudo_de_la_Pontificia_Universidad_Cat%C3%B3lica_de_Chile.svg/179px-Escudo_de_la_Pontificia_Universidad_Cat%C3%B3lica_de_Chile.svg.png\"> IMT 2200 - Introducción a Ciencia de Datos\n",
    "**Pontificia Universidad Católica de Chile**<br>\n",
    "**Semestre 2022-1**<br>\n",
    "**Profesora:** Paula Aguirre <br>\n",
    "**Integrantes:** Rodolfo Cruz, Nicolas San Martin, Benjamin Santander, Daniela Victorero <br>\n",
    "\n",
    "----"
   ]
  },
  {
   "cell_type": "markdown",
   "id": "509cf5b8",
   "metadata": {},
   "source": [
    " <h1><center>Proyecto: Análisis sobre la insuficiencia del desarrollo educacional con relación al rendimiento académico y otras variables.</center></h1>"
   ]
  },
  {
   "cell_type": "markdown",
   "id": "d145abac",
   "metadata": {},
   "source": [
    "## Contexto y motivación:\n",
    "\n",
    "Deseamos saber si existe una relación entre la situación socioeconómica del individuo\n",
    "y su capital cognitivo, para tomar medidas que permitan mejorar y equiparar el desarrollo\n",
    "cognitivo del individuo, así como su acceso considerando el contexto de reformas\n",
    "educacionales y pandemia. En primer lugar, se define capital cognitivo como “la suma de los saberes adquiridos a\n",
    "consecuencia del capital cultural de origen más las oportunidades educacionales formales”\n",
    "(Rosas, 2013, pág. 55).\n",
    "En segundo lugar, según Pierre Bourdieu, se define capital cultural como “al conjunto\n",
    "de bienes culturales disponibles, transmitidos de generación en generación, los que explican\n",
    "las diferencias de los resultados escolares y en la ubicación relativa en la pirámide social.”\n",
    "(Rosas, 2013, pág. 15). Por lo tanto, creemos que sería interesante compararar el rendimiento escolar de los estudiantes en funcion de ciertos indicadores socioeconomicos tales como:\n",
    "\n",
    "- Indicador de calidad educacional.\n",
    "- Indicados de nivel socioeconómico.\n",
    "\n",
    "\n"
   ]
  },
  {
   "cell_type": "markdown",
   "id": "913d2965",
   "metadata": {},
   "source": [
    "## Preguntas objetivo: \n",
    "\n",
    "Las preguntas anteriores eran:\n",
    "1. ¿Es la educación una inversión al largo plazo?\n",
    "2. ¿Existe una relación entre el nivel socioeconómico del estudiante y capital cognitivo?\n",
    "3. ¿Influye la ubicación en el rendimiento académico?\n",
    "4. ¿Cuáles son las regiones con mayor rendimiento académico?\n",
    "5. ¿Es acaso la inversión al estudiante un factor que determine el éxito académico?\n",
    "\n",
    "A lo largo del proyecto, se ha decidido enfocar la pregunta a que si existe una relacion entre el nivel socioeconomico del estudiante y su capital congnitivo, debido a la cantidad de informacion presente respecto al tema y tambien considerando las conclusiones obtenidas de la tarea 3 en cuando a la correlacion existente entre variables para un mejor desempeño.\n"
   ]
  },
  {
   "cell_type": "markdown",
   "id": "05102f8a",
   "metadata": {},
   "source": [
    "## Datos: \n",
    "describa los datos utilizados y su origen, y documente los procedimientos de recolección, preparación y transformación de datos."
   ]
  },
  {
   "cell_type": "markdown",
   "id": "655cdc31",
   "metadata": {},
   "source": [
    "## Análisis exploratorio de datos: \n",
    "describa el proceso de exploración de sus datos, incluyendo visualizaciones, análisis gráficos, análisis estadísticos, etc. Explique los resultados y conclusiones preliminares obtenidas, y cómo estos influyen o motivan el método de modelamiento elegido. Justifique todas las decisiones adoptadas.\n",
    "\n"
   ]
  },
  {
   "cell_type": "markdown",
   "id": "fd350d40",
   "metadata": {},
   "source": [
    "## Análisis de datos: \n",
    "describa y documente los métodos computacionales y estadísticos aplicados al modelamiento de sus datos. Justifique las elecciones y decisiones adoptadas (ej: selección de variables y parámetros, configuración de algoritmos, normalizaciones, validaciones, etc.), y evalúe sus resultados en base a métricas apropiadas al modelo elaborado (Ej. error cuadrático, intervalo de confiabilidad, precisión, recall, F1, matriz de confusión, etc.)"
   ]
  },
  {
   "cell_type": "markdown",
   "id": "54b729fe",
   "metadata": {},
   "source": [
    "## Resumen de los resultados: \n",
    "explique narrativa y visualmente sus resultados, cómo estos responden a la pregunta original, y las posibles limitaciones o sesgos de sus datos o análisis."
   ]
  },
  {
   "cell_type": "markdown",
   "id": "b5c7660c",
   "metadata": {},
   "source": [
    "----"
   ]
  },
  {
   "cell_type": "markdown",
   "id": "162715d4",
   "metadata": {},
   "source": [
    "## Desarrollo"
   ]
  },
  {
   "cell_type": "code",
   "execution_count": null,
   "id": "9fec38d9",
   "metadata": {},
   "outputs": [],
   "source": []
  }
 ],
 "metadata": {
  "kernelspec": {
   "display_name": "Python 3 (ipykernel)",
   "language": "python",
   "name": "python3"
  },
  "language_info": {
   "codemirror_mode": {
    "name": "ipython",
    "version": 3
   },
   "file_extension": ".py",
   "mimetype": "text/x-python",
   "name": "python",
   "nbconvert_exporter": "python",
   "pygments_lexer": "ipython3",
   "version": "3.10.6"
  }
 },
 "nbformat": 4,
 "nbformat_minor": 5
}
