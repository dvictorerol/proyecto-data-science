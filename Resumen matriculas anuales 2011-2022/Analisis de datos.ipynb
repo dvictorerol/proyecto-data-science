{
 "cells": [
  {
   "cell_type": "code",
   "execution_count": 1,
   "id": "cf215048",
   "metadata": {},
   "outputs": [],
   "source": [
    "import matplotlib.pyplot as plt \n",
    "import numpy as np\n",
    "import pandas as pd\n"
   ]
  },
  {
   "cell_type": "code",
   "execution_count": 3,
   "id": "9d9fc1fc",
   "metadata": {},
   "outputs": [],
   "source": [
    "data_2011 = pd.read_csv(\"20140812_matricula_unica_2011_20110430_PUBL.csv\", sep=\";\", encoding = \"ISO-8859-1\")"
   ]
  },
  {
   "cell_type": "code",
   "execution_count": 2,
   "id": "50c1bf88",
   "metadata": {},
   "outputs": [],
   "source": [
    "data_2012 = pd.read_csv(\"20140812_matricula_unica_2012_20120430_PUBL.csv\", sep=\";\", encoding = \"ISO-8859-1\")"
   ]
  },
  {
   "cell_type": "code",
   "execution_count": 4,
   "id": "e1299be1",
   "metadata": {},
   "outputs": [],
   "source": [
    "data_2013 = pd.read_csv(\"20140808_matricula_unica_2013_20130430_PUBL.csv\", sep=\";\", encoding = \"ISO-8859-1\")"
   ]
  },
  {
   "cell_type": "code",
   "execution_count": 5,
   "id": "137ed923",
   "metadata": {},
   "outputs": [],
   "source": [
    "data_2014 = pd.read_csv(\"20140924_matricula_unica_2014_20140430_PUBL.csv\", sep=\";\", encoding = \"ISO-8859-1\")"
   ]
  },
  {
   "cell_type": "code",
   "execution_count": 6,
   "id": "fb6af5c9",
   "metadata": {},
   "outputs": [
    {
     "name": "stderr",
     "output_type": "stream",
     "text": [
      "C:\\Users\\snmar\\AppData\\Local\\Temp\\ipykernel_29564\\4045632279.py:1: DtypeWarning: Columns (25) have mixed types. Specify dtype option on import or set low_memory=False.\n",
      "  data_2015 = pd.read_csv(\"20150923_matricula_unica_2015_20150430_PUBL.CSV\", sep=\";\", encoding = \"ISO-8859-1\")\n"
     ]
    }
   ],
   "source": [
    "data_2015 = pd.read_csv(\"20150923_matricula_unica_2015_20150430_PUBL.CSV\", sep=\";\", encoding = \"ISO-8859-1\")"
   ]
  },
  {
   "cell_type": "code",
   "execution_count": 7,
   "id": "b2a946b1",
   "metadata": {},
   "outputs": [
    {
     "name": "stderr",
     "output_type": "stream",
     "text": [
      "C:\\Users\\snmar\\AppData\\Local\\Temp\\ipykernel_29564\\2948309360.py:1: DtypeWarning: Columns (25) have mixed types. Specify dtype option on import or set low_memory=False.\n",
      "  data_2016 = pd.read_csv(\"20160926_matricula_unica_2016_20160430_PUBL.csv\", sep=\";\", encoding = \"ISO-8859-1\")\n"
     ]
    }
   ],
   "source": [
    "data_2016 = pd.read_csv(\"20160926_matricula_unica_2016_20160430_PUBL.csv\", sep=\";\", encoding = \"ISO-8859-1\")"
   ]
  },
  {
   "cell_type": "code",
   "execution_count": 8,
   "id": "881323f3",
   "metadata": {},
   "outputs": [
    {
     "name": "stderr",
     "output_type": "stream",
     "text": [
      "C:\\Users\\snmar\\AppData\\Local\\Temp\\ipykernel_29564\\1252825370.py:1: DtypeWarning: Columns (26) have mixed types. Specify dtype option on import or set low_memory=False.\n",
      "  data_2017 = pd.read_csv(\"20170921_matricula_unica_2017_20170430_PUBL.csv\", sep=\";\", encoding = \"ISO-8859-1\")\n"
     ]
    }
   ],
   "source": [
    "data_2017 = pd.read_csv(\"20170921_matricula_unica_2017_20170430_PUBL.csv\", sep=\";\", encoding = \"ISO-8859-1\")"
   ]
  },
  {
   "cell_type": "code",
   "execution_count": 9,
   "id": "3f8950a3",
   "metadata": {},
   "outputs": [
    {
     "name": "stderr",
     "output_type": "stream",
     "text": [
      "C:\\Users\\snmar\\AppData\\Local\\Temp\\ipykernel_29564\\2114943873.py:1: DtypeWarning: Columns (26) have mixed types. Specify dtype option on import or set low_memory=False.\n",
      "  data_2018 = pd.read_csv(\"20181005_Matrícula_unica_2018_20180430_PUBL.CSV\", sep=\";\", encoding = \"ISO-8859-1\")\n"
     ]
    }
   ],
   "source": [
    "data_2018 = pd.read_csv(\"20181005_Matrícula_unica_2018_20180430_PUBL.CSV\", sep=\";\", encoding = \"ISO-8859-1\")"
   ]
  },
  {
   "cell_type": "code",
   "execution_count": 10,
   "id": "1e8662d4",
   "metadata": {},
   "outputs": [
    {
     "name": "stderr",
     "output_type": "stream",
     "text": [
      "C:\\Users\\snmar\\AppData\\Local\\Temp\\ipykernel_29564\\883313727.py:1: DtypeWarning: Columns (27) have mixed types. Specify dtype option on import or set low_memory=False.\n",
      "  data_2019 = pd.read_csv(\"20191028_Matrícula_unica_2019_20190430_PUBL.CSV\", sep=\";\", encoding = \"ISO-8859-1\")\n"
     ]
    }
   ],
   "source": [
    "data_2019 = pd.read_csv(\"20191028_Matrícula_unica_2019_20190430_PUBL.CSV\", sep=\";\", encoding = \"ISO-8859-1\")"
   ]
  },
  {
   "cell_type": "code",
   "execution_count": 11,
   "id": "7602a3f2",
   "metadata": {},
   "outputs": [
    {
     "name": "stderr",
     "output_type": "stream",
     "text": [
      "C:\\Users\\snmar\\AppData\\Local\\Temp\\ipykernel_29564\\3308133875.py:1: DtypeWarning: Columns (27) have mixed types. Specify dtype option on import or set low_memory=False.\n",
      "  data_2020 = pd.read_csv(\"20200921_Matrícula_unica_2020_20200430_WEB.CSV\", sep=\";\", encoding = \"ISO-8859-1\")\n"
     ]
    }
   ],
   "source": [
    "data_2020 = pd.read_csv(\"20200921_Matrícula_unica_2020_20200430_WEB.CSV\", sep=\";\", encoding = \"ISO-8859-1\")"
   ]
  },
  {
   "cell_type": "code",
   "execution_count": 12,
   "id": "f7ddafc1",
   "metadata": {},
   "outputs": [
    {
     "name": "stderr",
     "output_type": "stream",
     "text": [
      "C:\\Users\\snmar\\AppData\\Local\\Temp\\ipykernel_29564\\61947991.py:1: DtypeWarning: Columns (27) have mixed types. Specify dtype option on import or set low_memory=False.\n",
      "  data_2021 = pd.read_csv(\"20210913_Matrícula_unica_2021_20210430_WEB.CSV\", sep=\";\", encoding = \"ISO-8859-1\")\n"
     ]
    }
   ],
   "source": [
    "data_2021 = pd.read_csv(\"20210913_Matrícula_unica_2021_20210430_WEB.CSV\", sep=\";\", encoding = \"ISO-8859-1\")"
   ]
  },
  {
   "cell_type": "code",
   "execution_count": 13,
   "id": "6a0f52c9",
   "metadata": {},
   "outputs": [
    {
     "name": "stderr",
     "output_type": "stream",
     "text": [
      "C:\\Users\\snmar\\AppData\\Local\\Temp\\ipykernel_29564\\2530088285.py:1: DtypeWarning: Columns (27) have mixed types. Specify dtype option on import or set low_memory=False.\n",
      "  data_2022 = pd.read_csv(\"20220908_Matrícula_unica_2022_20220430_WEB.CSV\", sep=\";\", encoding = \"ISO-8859-1\")\n"
     ]
    }
   ],
   "source": [
    "data_2022 = pd.read_csv(\"20220908_Matrícula_unica_2022_20220430_WEB.CSV\", sep=\";\", encoding = \"ISO-8859-1\")"
   ]
  },
  {
   "cell_type": "code",
   "execution_count": 14,
   "id": "5b233746",
   "metadata": {},
   "outputs": [],
   "source": [
    "lista_dataframes = [data_2011, data_2012, data_2013, data_2014, data_2015, data_2016, data_2017, data_2018, data_2019, data_2020, data_2021, data_2022]"
   ]
  },
  {
   "cell_type": "code",
   "execution_count": 29,
   "id": "19b0bf72",
   "metadata": {},
   "outputs": [
    {
     "name": "stdout",
     "output_type": "stream",
     "text": [
      "2013\n",
      "2014\n",
      "2015\n",
      "2016\n",
      "2017\n",
      "2018\n",
      "2019\n",
      "2020\n",
      "2021\n",
      "2022\n"
     ]
    },
    {
     "data": {
      "text/html": [
       "<div>\n",
       "<style scoped>\n",
       "    .dataframe tbody tr th:only-of-type {\n",
       "        vertical-align: middle;\n",
       "    }\n",
       "\n",
       "    .dataframe tbody tr th {\n",
       "        vertical-align: top;\n",
       "    }\n",
       "\n",
       "    .dataframe thead th {\n",
       "        text-align: right;\n",
       "    }\n",
       "</style>\n",
       "<table border=\"1\" class=\"dataframe\">\n",
       "  <thead>\n",
       "    <tr style=\"text-align: right;\">\n",
       "      <th></th>\n",
       "      <th>NOM_RBD</th>\n",
       "      <th>2011</th>\n",
       "      <th>2012</th>\n",
       "      <th>2013</th>\n",
       "      <th>2014</th>\n",
       "      <th>2015</th>\n",
       "      <th>2016</th>\n",
       "      <th>2017</th>\n",
       "      <th>2018</th>\n",
       "      <th>2019</th>\n",
       "      <th>2020</th>\n",
       "      <th>2021</th>\n",
       "      <th>2022</th>\n",
       "    </tr>\n",
       "  </thead>\n",
       "  <tbody>\n",
       "    <tr>\n",
       "      <th>0</th>\n",
       "      <td>ABRAHAM LINCOLN MEMORIAL COLLEGE</td>\n",
       "      <td>295</td>\n",
       "      <td>292.0</td>\n",
       "      <td>269.0</td>\n",
       "      <td>286.0</td>\n",
       "      <td>263.0</td>\n",
       "      <td>260.0</td>\n",
       "      <td>267.0</td>\n",
       "      <td>269.0</td>\n",
       "      <td>273.0</td>\n",
       "      <td>273.0</td>\n",
       "      <td>270.0</td>\n",
       "      <td>257.0</td>\n",
       "    </tr>\n",
       "    <tr>\n",
       "      <th>1</th>\n",
       "      <td>ABRAHAM LINCOLN SCHOOL</td>\n",
       "      <td>605</td>\n",
       "      <td>607.0</td>\n",
       "      <td>621.0</td>\n",
       "      <td>599.0</td>\n",
       "      <td>577.0</td>\n",
       "      <td>575.0</td>\n",
       "      <td>589.0</td>\n",
       "      <td>606.0</td>\n",
       "      <td>685.0</td>\n",
       "      <td>764.0</td>\n",
       "      <td>764.0</td>\n",
       "      <td>756.0</td>\n",
       "    </tr>\n",
       "    <tr>\n",
       "      <th>2</th>\n",
       "      <td>ACADEMIA IQUIQUE BULNES</td>\n",
       "      <td>1015</td>\n",
       "      <td>1036.0</td>\n",
       "      <td>993.0</td>\n",
       "      <td>1000.0</td>\n",
       "      <td>1047.0</td>\n",
       "      <td>1036.0</td>\n",
       "      <td>1020.0</td>\n",
       "      <td>NaN</td>\n",
       "      <td>NaN</td>\n",
       "      <td>NaN</td>\n",
       "      <td>NaN</td>\n",
       "      <td>NaN</td>\n",
       "    </tr>\n",
       "    <tr>\n",
       "      <th>3</th>\n",
       "      <td>ACADEMIA IQUIQUE HOSPICIO</td>\n",
       "      <td>1108</td>\n",
       "      <td>932.0</td>\n",
       "      <td>912.0</td>\n",
       "      <td>1027.0</td>\n",
       "      <td>1087.0</td>\n",
       "      <td>1097.0</td>\n",
       "      <td>NaN</td>\n",
       "      <td>NaN</td>\n",
       "      <td>NaN</td>\n",
       "      <td>NaN</td>\n",
       "      <td>NaN</td>\n",
       "      <td>NaN</td>\n",
       "    </tr>\n",
       "    <tr>\n",
       "      <th>4</th>\n",
       "      <td>ACADEMIA NERUDIANA</td>\n",
       "      <td>142</td>\n",
       "      <td>152.0</td>\n",
       "      <td>153.0</td>\n",
       "      <td>153.0</td>\n",
       "      <td>147.0</td>\n",
       "      <td>162.0</td>\n",
       "      <td>160.0</td>\n",
       "      <td>170.0</td>\n",
       "      <td>170.0</td>\n",
       "      <td>176.0</td>\n",
       "      <td>172.0</td>\n",
       "      <td>161.0</td>\n",
       "    </tr>\n",
       "    <tr>\n",
       "      <th>...</th>\n",
       "      <td>...</td>\n",
       "      <td>...</td>\n",
       "      <td>...</td>\n",
       "      <td>...</td>\n",
       "      <td>...</td>\n",
       "      <td>...</td>\n",
       "      <td>...</td>\n",
       "      <td>...</td>\n",
       "      <td>...</td>\n",
       "      <td>...</td>\n",
       "      <td>...</td>\n",
       "      <td>...</td>\n",
       "      <td>...</td>\n",
       "    </tr>\n",
       "    <tr>\n",
       "      <th>11030</th>\n",
       "      <td>WASHINGTON CENTER LA FLORIDA</td>\n",
       "      <td>353</td>\n",
       "      <td>323.0</td>\n",
       "      <td>387.0</td>\n",
       "      <td>429.0</td>\n",
       "      <td>3.0</td>\n",
       "      <td>NaN</td>\n",
       "      <td>NaN</td>\n",
       "      <td>NaN</td>\n",
       "      <td>NaN</td>\n",
       "      <td>NaN</td>\n",
       "      <td>NaN</td>\n",
       "      <td>NaN</td>\n",
       "    </tr>\n",
       "    <tr>\n",
       "      <th>11031</th>\n",
       "      <td>WEXFORD COLLEGE N 2</td>\n",
       "      <td>210</td>\n",
       "      <td>193.0</td>\n",
       "      <td>208.0</td>\n",
       "      <td>190.0</td>\n",
       "      <td>165.0</td>\n",
       "      <td>175.0</td>\n",
       "      <td>152.0</td>\n",
       "      <td>163.0</td>\n",
       "      <td>150.0</td>\n",
       "      <td>180.0</td>\n",
       "      <td>182.0</td>\n",
       "      <td>178.0</td>\n",
       "    </tr>\n",
       "    <tr>\n",
       "      <th>11032</th>\n",
       "      <td>WINDMILL COLLEGE</td>\n",
       "      <td>153</td>\n",
       "      <td>128.0</td>\n",
       "      <td>NaN</td>\n",
       "      <td>452.0</td>\n",
       "      <td>483.0</td>\n",
       "      <td>483.0</td>\n",
       "      <td>471.0</td>\n",
       "      <td>482.0</td>\n",
       "      <td>459.0</td>\n",
       "      <td>442.0</td>\n",
       "      <td>456.0</td>\n",
       "      <td>420.0</td>\n",
       "    </tr>\n",
       "    <tr>\n",
       "      <th>11033</th>\n",
       "      <td>WINDMILL COLLEGE ANEXO</td>\n",
       "      <td>453</td>\n",
       "      <td>331.0</td>\n",
       "      <td>449.0</td>\n",
       "      <td>NaN</td>\n",
       "      <td>NaN</td>\n",
       "      <td>NaN</td>\n",
       "      <td>NaN</td>\n",
       "      <td>NaN</td>\n",
       "      <td>NaN</td>\n",
       "      <td>NaN</td>\n",
       "      <td>NaN</td>\n",
       "      <td>NaN</td>\n",
       "    </tr>\n",
       "    <tr>\n",
       "      <th>11034</th>\n",
       "      <td>YIRE LICEO POLITECNICO DE COIHUECO</td>\n",
       "      <td>337</td>\n",
       "      <td>349.0</td>\n",
       "      <td>364.0</td>\n",
       "      <td>364.0</td>\n",
       "      <td>399.0</td>\n",
       "      <td>419.0</td>\n",
       "      <td>463.0</td>\n",
       "      <td>477.0</td>\n",
       "      <td>491.0</td>\n",
       "      <td>494.0</td>\n",
       "      <td>495.0</td>\n",
       "      <td>490.0</td>\n",
       "    </tr>\n",
       "  </tbody>\n",
       "</table>\n",
       "<p>11035 rows × 13 columns</p>\n",
       "</div>"
      ],
      "text/plain": [
       "                                  NOM_RBD  2011    2012   2013    2014  \\\n",
       "0        ABRAHAM LINCOLN MEMORIAL COLLEGE   295   292.0  269.0   286.0   \n",
       "1                  ABRAHAM LINCOLN SCHOOL   605   607.0  621.0   599.0   \n",
       "2                 ACADEMIA IQUIQUE BULNES  1015  1036.0  993.0  1000.0   \n",
       "3               ACADEMIA IQUIQUE HOSPICIO  1108   932.0  912.0  1027.0   \n",
       "4                      ACADEMIA NERUDIANA   142   152.0  153.0   153.0   \n",
       "...                                   ...   ...     ...    ...     ...   \n",
       "11030        WASHINGTON CENTER LA FLORIDA   353   323.0  387.0   429.0   \n",
       "11031                 WEXFORD COLLEGE N 2   210   193.0  208.0   190.0   \n",
       "11032                    WINDMILL COLLEGE   153   128.0    NaN   452.0   \n",
       "11033              WINDMILL COLLEGE ANEXO   453   331.0  449.0     NaN   \n",
       "11034  YIRE LICEO POLITECNICO DE COIHUECO   337   349.0  364.0   364.0   \n",
       "\n",
       "         2015    2016    2017   2018   2019   2020   2021   2022  \n",
       "0       263.0   260.0   267.0  269.0  273.0  273.0  270.0  257.0  \n",
       "1       577.0   575.0   589.0  606.0  685.0  764.0  764.0  756.0  \n",
       "2      1047.0  1036.0  1020.0    NaN    NaN    NaN    NaN    NaN  \n",
       "3      1087.0  1097.0     NaN    NaN    NaN    NaN    NaN    NaN  \n",
       "4       147.0   162.0   160.0  170.0  170.0  176.0  172.0  161.0  \n",
       "...       ...     ...     ...    ...    ...    ...    ...    ...  \n",
       "11030     3.0     NaN     NaN    NaN    NaN    NaN    NaN    NaN  \n",
       "11031   165.0   175.0   152.0  163.0  150.0  180.0  182.0  178.0  \n",
       "11032   483.0   483.0   471.0  482.0  459.0  442.0  456.0  420.0  \n",
       "11033     NaN     NaN     NaN    NaN    NaN    NaN    NaN    NaN  \n",
       "11034   399.0   419.0   463.0  477.0  491.0  494.0  495.0  490.0  \n",
       "\n",
       "[11035 rows x 13 columns]"
      ]
     },
     "execution_count": 29,
     "metadata": {},
     "output_type": "execute_result"
    }
   ],
   "source": [
    "ano_partida = 2011\n",
    "resumen_matricula  = None\n",
    "for data in lista_dataframes:\n",
    "    \n",
    "    if ano_partida == 2011:\n",
    "        data = data[data[\"edad_alu\"] <= 18]\n",
    "        conjunto_total = data.groupby(\"nom_rbd\").count()[\"agno\"]\n",
    "        conjunto_total = pd.DataFrame(conjunto_total)\n",
    "        conjunto_total= conjunto_total.reset_index()\n",
    "        conjunto_total.rename(columns={\"agno\" : f\"{ano_partida}\", \"nom_rbd\": \"NOM_RBD\"}, inplace = True)\n",
    "        resumen_matricula = conjunto_total.copy()\n",
    "        ano_partida += 1\n",
    "    elif ano_partida == 2012:\n",
    "        data = data[data[\"edad_alu\"] <= 18]\n",
    "        grupo = pd.DataFrame(data.groupby(\"nom_rbd\").count()[\"agno\"])\n",
    "        valores = grupo.reset_index()\n",
    "        valores.rename(columns={\"agno\":f\"{ano_partida}\", \"nom_rbd\":\"NOM_RBD\"}, inplace = True)\n",
    "        resumen_matricula = pd.merge(resumen_matricula, valores, on= \"NOM_RBD\", how = \"left\")\n",
    "        ano_partida += 1\n",
    "    elif ano_partida == 2017:\n",
    "        print(ano_partida)\n",
    "        data[\"edad_alu\"] = data[\"edad_alu\"].replace(\" \", 200)\n",
    "        data[\"edad_alu\"] = data[\"edad_alu\"].astype(np.int64())\n",
    "        data = data[data[\"edad_alu\"] <= 18]\n",
    "        grupo = pd.DataFrame(data.groupby(\"nom_rbd\").count()[\"agno\"])\n",
    "        valores = grupo.reset_index()\n",
    "        valores.rename(columns={\"agno\":f\"{ano_partida}\", \"nom_rbd\":\"NOM_RBD\"}, inplace = True)\n",
    "        resumen_matricula = pd.merge(resumen_matricula, valores, on= \"NOM_RBD\", how = \"left\")\n",
    "\n",
    "        ano_partida += 1\n",
    "    elif 2016 > ano_partida > 2012:\n",
    "        print(ano_partida)\n",
    "        data[\"EDAD_ALU\"] = data[\"EDAD_ALU\"].replace(\" \", 200)\n",
    "        data[\"EDAD_ALU\"] = data[\"EDAD_ALU\"].astype(np.int64())\n",
    "        data = data[data[\"EDAD_ALU\"] <= 18]\n",
    "        grupo = pd.DataFrame(data.groupby(\"NOM_RBD\").count()[\"AGNO\"])\n",
    "        valores = grupo.reset_index()\n",
    "        valores.rename(columns={\"AGNO\":f\"{ano_partida}\"}, inplace = True)\n",
    "        resumen_matricula = pd.merge(resumen_matricula, valores, on= \"NOM_RBD\", how = \"left\")\n",
    "\n",
    "        ano_partida += 1\n",
    "    elif ano_partida == 2016:\n",
    "        print(ano_partida)\n",
    "        data[\"edad_alu\"] = data[\"edad_alu\"].replace(\" \", 200)\n",
    "        data[\"edad_alu\"] = data[\"edad_alu\"].astype(np.int64())\n",
    "        data = data[data[\"edad_alu\"] <= 18]\n",
    "        grupo = pd.DataFrame(data.groupby(\"nom_rbd\").count()[\"ï»¿agno\"])\n",
    "        valores = grupo.reset_index()\n",
    "        valores.rename(columns={\"ï»¿agno\":f\"{ano_partida}\", \"nom_rbd\":\"NOM_RBD\"}, inplace = True)\n",
    "        resumen_matricula = pd.merge(resumen_matricula, valores, on= \"NOM_RBD\", how = \"left\")\n",
    "\n",
    "\n",
    "        ano_partida += 1\n",
    "    \n",
    "    elif ano_partida > 2017:\n",
    "        print(ano_partida)\n",
    "        data[\"EDAD_ALU\"] = data[\"EDAD_ALU\"].replace(\" \", 200)\n",
    "        data[\"EDAD_ALU\"] = data[\"EDAD_ALU\"].astype(np.int64())\n",
    "        data = data[data[\"EDAD_ALU\"] <= 18]\n",
    "        grupo = pd.DataFrame(data.groupby(\"NOM_RBD\").count()[\"ï»¿AGNO\"])\n",
    "        valores = grupo.reset_index()\n",
    "        valores.rename(columns={\"ï»¿AGNO\":f\"{ano_partida}\"}, inplace = True)\n",
    "        resumen_matricula = pd.merge(resumen_matricula, valores, on= \"NOM_RBD\", how = \"left\")\n",
    "        ano_partida += 1\n",
    "\n",
    "resumen_matricula"
   ]
  },
  {
   "cell_type": "code",
   "execution_count": 31,
   "id": "ac7b2046",
   "metadata": {},
   "outputs": [],
   "source": [
    "resumen_matricula.to_csv(\"resumen matriculas\", sep=\";\")"
   ]
  }
 ],
 "metadata": {
  "kernelspec": {
   "display_name": "Python 3 (ipykernel)",
   "language": "python",
   "name": "python3"
  },
  "language_info": {
   "codemirror_mode": {
    "name": "ipython",
    "version": 3
   },
   "file_extension": ".py",
   "mimetype": "text/x-python",
   "name": "python",
   "nbconvert_exporter": "python",
   "pygments_lexer": "ipython3",
   "version": "3.10.6"
  }
 },
 "nbformat": 4,
 "nbformat_minor": 5
}
